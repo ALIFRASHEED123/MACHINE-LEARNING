{
  "cells": [
    {
      "cell_type": "markdown",
      "metadata": {
        "id": "view-in-github",
        "colab_type": "text"
      },
      "source": [
        "<a href=\"https://colab.research.google.com/github/ALIFRASHEED123/MACHINE-LEARNING/blob/main/PROJECT_CUSTOMER.ipynb\" target=\"_parent\"><img src=\"https://colab.research.google.com/assets/colab-badge.svg\" alt=\"Open In Colab\"/></a>"
      ]
    },
    {
      "cell_type": "code",
      "execution_count": null,
      "metadata": {
        "id": "mIaHOpvwkcFb"
      },
      "outputs": [],
      "source": [
        "import numpy as np\n",
        "import pandas as pd\n",
        "import seaborn as sns\n",
        "import matplotlib.pyplot as plt\n",
        "from sklearn.preprocessing import LabelEncoder\n",
        "from sklearn.preprocessing import StandardScaler\n",
        "from sklearn.model_selection import train_test_split\n",
        "from sklearn.metrics import accuracy_score\n",
        "from sklearn import metrics"
      ]
    },
    {
      "cell_type": "markdown",
      "metadata": {
        "id": "A_OYRhyoz774"
      },
      "source": [
        "IMPORTING THE FILE"
      ]
    },
    {
      "cell_type": "code",
      "execution_count": null,
      "metadata": {
        "id": "t1FRCee_wwLU"
      },
      "outputs": [],
      "source": [
        "TCC=pd.read_csv(\"/content/WA_Fn-UseC_-Telco-Customer-Churn.csv\")"
      ]
    },
    {
      "cell_type": "markdown",
      "metadata": {
        "id": "g5_0rL_pz-8v"
      },
      "source": [
        "READING THE FILE"
      ]
    },
    {
      "cell_type": "markdown",
      "metadata": {
        "id": "ZQCWy5fS0BPv"
      },
      "source": [
        "CHECKING THE SHAPE OF DATA"
      ]
    },
    {
      "cell_type": "code",
      "execution_count": null,
      "metadata": {
        "colab": {
          "base_uri": "https://localhost:8080/"
        },
        "id": "_mfoyuCvoOWm",
        "outputId": "19ab4f45-fbf9-4daa-e077-95c5e6efbd49"
      },
      "outputs": [
        {
          "data": {
            "text/plain": [
              "(7043, 21)"
            ]
          },
          "execution_count": 4,
          "metadata": {},
          "output_type": "execute_result"
        }
      ],
      "source": [
        "TCC.shape"
      ]
    },
    {
      "cell_type": "code",
      "execution_count": null,
      "metadata": {
        "colab": {
          "base_uri": "https://localhost:8080/",
          "height": 386
        },
        "id": "p1w-nIqRoUp8",
        "outputId": "2d68e272-7f48-4d7c-c60f-0d061e026502"
      },
      "outputs": [
        {
          "data": {
            "text/html": [
              "\n",
              "  <div id=\"df-53fddfd1-34de-4c66-97d6-f7ca7dd0a1e6\">\n",
              "    <div class=\"colab-df-container\">\n",
              "      <div>\n",
              "<style scoped>\n",
              "    .dataframe tbody tr th:only-of-type {\n",
              "        vertical-align: middle;\n",
              "    }\n",
              "\n",
              "    .dataframe tbody tr th {\n",
              "        vertical-align: top;\n",
              "    }\n",
              "\n",
              "    .dataframe thead th {\n",
              "        text-align: right;\n",
              "    }\n",
              "</style>\n",
              "<table border=\"1\" class=\"dataframe\">\n",
              "  <thead>\n",
              "    <tr style=\"text-align: right;\">\n",
              "      <th></th>\n",
              "      <th>customerID</th>\n",
              "      <th>gender</th>\n",
              "      <th>SeniorCitizen</th>\n",
              "      <th>Partner</th>\n",
              "      <th>Dependents</th>\n",
              "      <th>tenure</th>\n",
              "      <th>PhoneService</th>\n",
              "      <th>MultipleLines</th>\n",
              "      <th>InternetService</th>\n",
              "      <th>OnlineSecurity</th>\n",
              "      <th>...</th>\n",
              "      <th>DeviceProtection</th>\n",
              "      <th>TechSupport</th>\n",
              "      <th>StreamingTV</th>\n",
              "      <th>StreamingMovies</th>\n",
              "      <th>Contract</th>\n",
              "      <th>PaperlessBilling</th>\n",
              "      <th>PaymentMethod</th>\n",
              "      <th>MonthlyCharges</th>\n",
              "      <th>TotalCharges</th>\n",
              "      <th>Churn</th>\n",
              "    </tr>\n",
              "  </thead>\n",
              "  <tbody>\n",
              "    <tr>\n",
              "      <th>0</th>\n",
              "      <td>7590-VHVEG</td>\n",
              "      <td>Female</td>\n",
              "      <td>0</td>\n",
              "      <td>Yes</td>\n",
              "      <td>No</td>\n",
              "      <td>1</td>\n",
              "      <td>No</td>\n",
              "      <td>No phone service</td>\n",
              "      <td>DSL</td>\n",
              "      <td>No</td>\n",
              "      <td>...</td>\n",
              "      <td>No</td>\n",
              "      <td>No</td>\n",
              "      <td>No</td>\n",
              "      <td>No</td>\n",
              "      <td>Month-to-month</td>\n",
              "      <td>Yes</td>\n",
              "      <td>Electronic check</td>\n",
              "      <td>29.85</td>\n",
              "      <td>29.85</td>\n",
              "      <td>No</td>\n",
              "    </tr>\n",
              "    <tr>\n",
              "      <th>1</th>\n",
              "      <td>5575-GNVDE</td>\n",
              "      <td>Male</td>\n",
              "      <td>0</td>\n",
              "      <td>No</td>\n",
              "      <td>No</td>\n",
              "      <td>34</td>\n",
              "      <td>Yes</td>\n",
              "      <td>No</td>\n",
              "      <td>DSL</td>\n",
              "      <td>Yes</td>\n",
              "      <td>...</td>\n",
              "      <td>Yes</td>\n",
              "      <td>No</td>\n",
              "      <td>No</td>\n",
              "      <td>No</td>\n",
              "      <td>One year</td>\n",
              "      <td>No</td>\n",
              "      <td>Mailed check</td>\n",
              "      <td>56.95</td>\n",
              "      <td>1889.5</td>\n",
              "      <td>No</td>\n",
              "    </tr>\n",
              "    <tr>\n",
              "      <th>2</th>\n",
              "      <td>3668-QPYBK</td>\n",
              "      <td>Male</td>\n",
              "      <td>0</td>\n",
              "      <td>No</td>\n",
              "      <td>No</td>\n",
              "      <td>2</td>\n",
              "      <td>Yes</td>\n",
              "      <td>No</td>\n",
              "      <td>DSL</td>\n",
              "      <td>Yes</td>\n",
              "      <td>...</td>\n",
              "      <td>No</td>\n",
              "      <td>No</td>\n",
              "      <td>No</td>\n",
              "      <td>No</td>\n",
              "      <td>Month-to-month</td>\n",
              "      <td>Yes</td>\n",
              "      <td>Mailed check</td>\n",
              "      <td>53.85</td>\n",
              "      <td>108.15</td>\n",
              "      <td>Yes</td>\n",
              "    </tr>\n",
              "    <tr>\n",
              "      <th>3</th>\n",
              "      <td>7795-CFOCW</td>\n",
              "      <td>Male</td>\n",
              "      <td>0</td>\n",
              "      <td>No</td>\n",
              "      <td>No</td>\n",
              "      <td>45</td>\n",
              "      <td>No</td>\n",
              "      <td>No phone service</td>\n",
              "      <td>DSL</td>\n",
              "      <td>Yes</td>\n",
              "      <td>...</td>\n",
              "      <td>Yes</td>\n",
              "      <td>Yes</td>\n",
              "      <td>No</td>\n",
              "      <td>No</td>\n",
              "      <td>One year</td>\n",
              "      <td>No</td>\n",
              "      <td>Bank transfer (automatic)</td>\n",
              "      <td>42.30</td>\n",
              "      <td>1840.75</td>\n",
              "      <td>No</td>\n",
              "    </tr>\n",
              "    <tr>\n",
              "      <th>4</th>\n",
              "      <td>9237-HQITU</td>\n",
              "      <td>Female</td>\n",
              "      <td>0</td>\n",
              "      <td>No</td>\n",
              "      <td>No</td>\n",
              "      <td>2</td>\n",
              "      <td>Yes</td>\n",
              "      <td>No</td>\n",
              "      <td>Fiber optic</td>\n",
              "      <td>No</td>\n",
              "      <td>...</td>\n",
              "      <td>No</td>\n",
              "      <td>No</td>\n",
              "      <td>No</td>\n",
              "      <td>No</td>\n",
              "      <td>Month-to-month</td>\n",
              "      <td>Yes</td>\n",
              "      <td>Electronic check</td>\n",
              "      <td>70.70</td>\n",
              "      <td>151.65</td>\n",
              "      <td>Yes</td>\n",
              "    </tr>\n",
              "  </tbody>\n",
              "</table>\n",
              "<p>5 rows × 21 columns</p>\n",
              "</div>\n",
              "      <button class=\"colab-df-convert\" onclick=\"convertToInteractive('df-53fddfd1-34de-4c66-97d6-f7ca7dd0a1e6')\"\n",
              "              title=\"Convert this dataframe to an interactive table.\"\n",
              "              style=\"display:none;\">\n",
              "        \n",
              "  <svg xmlns=\"http://www.w3.org/2000/svg\" height=\"24px\"viewBox=\"0 0 24 24\"\n",
              "       width=\"24px\">\n",
              "    <path d=\"M0 0h24v24H0V0z\" fill=\"none\"/>\n",
              "    <path d=\"M18.56 5.44l.94 2.06.94-2.06 2.06-.94-2.06-.94-.94-2.06-.94 2.06-2.06.94zm-11 1L8.5 8.5l.94-2.06 2.06-.94-2.06-.94L8.5 2.5l-.94 2.06-2.06.94zm10 10l.94 2.06.94-2.06 2.06-.94-2.06-.94-.94-2.06-.94 2.06-2.06.94z\"/><path d=\"M17.41 7.96l-1.37-1.37c-.4-.4-.92-.59-1.43-.59-.52 0-1.04.2-1.43.59L10.3 9.45l-7.72 7.72c-.78.78-.78 2.05 0 2.83L4 21.41c.39.39.9.59 1.41.59.51 0 1.02-.2 1.41-.59l7.78-7.78 2.81-2.81c.8-.78.8-2.07 0-2.86zM5.41 20L4 18.59l7.72-7.72 1.47 1.35L5.41 20z\"/>\n",
              "  </svg>\n",
              "      </button>\n",
              "      \n",
              "  <style>\n",
              "    .colab-df-container {\n",
              "      display:flex;\n",
              "      flex-wrap:wrap;\n",
              "      gap: 12px;\n",
              "    }\n",
              "\n",
              "    .colab-df-convert {\n",
              "      background-color: #E8F0FE;\n",
              "      border: none;\n",
              "      border-radius: 50%;\n",
              "      cursor: pointer;\n",
              "      display: none;\n",
              "      fill: #1967D2;\n",
              "      height: 32px;\n",
              "      padding: 0 0 0 0;\n",
              "      width: 32px;\n",
              "    }\n",
              "\n",
              "    .colab-df-convert:hover {\n",
              "      background-color: #E2EBFA;\n",
              "      box-shadow: 0px 1px 2px rgba(60, 64, 67, 0.3), 0px 1px 3px 1px rgba(60, 64, 67, 0.15);\n",
              "      fill: #174EA6;\n",
              "    }\n",
              "\n",
              "    [theme=dark] .colab-df-convert {\n",
              "      background-color: #3B4455;\n",
              "      fill: #D2E3FC;\n",
              "    }\n",
              "\n",
              "    [theme=dark] .colab-df-convert:hover {\n",
              "      background-color: #434B5C;\n",
              "      box-shadow: 0px 1px 3px 1px rgba(0, 0, 0, 0.15);\n",
              "      filter: drop-shadow(0px 1px 2px rgba(0, 0, 0, 0.3));\n",
              "      fill: #FFFFFF;\n",
              "    }\n",
              "  </style>\n",
              "\n",
              "      <script>\n",
              "        const buttonEl =\n",
              "          document.querySelector('#df-53fddfd1-34de-4c66-97d6-f7ca7dd0a1e6 button.colab-df-convert');\n",
              "        buttonEl.style.display =\n",
              "          google.colab.kernel.accessAllowed ? 'block' : 'none';\n",
              "\n",
              "        async function convertToInteractive(key) {\n",
              "          const element = document.querySelector('#df-53fddfd1-34de-4c66-97d6-f7ca7dd0a1e6');\n",
              "          const dataTable =\n",
              "            await google.colab.kernel.invokeFunction('convertToInteractive',\n",
              "                                                     [key], {});\n",
              "          if (!dataTable) return;\n",
              "\n",
              "          const docLinkHtml = 'Like what you see? Visit the ' +\n",
              "            '<a target=\"_blank\" href=https://colab.research.google.com/notebooks/data_table.ipynb>data table notebook</a>'\n",
              "            + ' to learn more about interactive tables.';\n",
              "          element.innerHTML = '';\n",
              "          dataTable['output_type'] = 'display_data';\n",
              "          await google.colab.output.renderOutput(dataTable, element);\n",
              "          const docLink = document.createElement('div');\n",
              "          docLink.innerHTML = docLinkHtml;\n",
              "          element.appendChild(docLink);\n",
              "        }\n",
              "      </script>\n",
              "    </div>\n",
              "  </div>\n",
              "  "
            ],
            "text/plain": [
              "   customerID  gender  SeniorCitizen Partner Dependents  tenure PhoneService  \\\n",
              "0  7590-VHVEG  Female              0     Yes         No       1           No   \n",
              "1  5575-GNVDE    Male              0      No         No      34          Yes   \n",
              "2  3668-QPYBK    Male              0      No         No       2          Yes   \n",
              "3  7795-CFOCW    Male              0      No         No      45           No   \n",
              "4  9237-HQITU  Female              0      No         No       2          Yes   \n",
              "\n",
              "      MultipleLines InternetService OnlineSecurity  ... DeviceProtection  \\\n",
              "0  No phone service             DSL             No  ...               No   \n",
              "1                No             DSL            Yes  ...              Yes   \n",
              "2                No             DSL            Yes  ...               No   \n",
              "3  No phone service             DSL            Yes  ...              Yes   \n",
              "4                No     Fiber optic             No  ...               No   \n",
              "\n",
              "  TechSupport StreamingTV StreamingMovies        Contract PaperlessBilling  \\\n",
              "0          No          No              No  Month-to-month              Yes   \n",
              "1          No          No              No        One year               No   \n",
              "2          No          No              No  Month-to-month              Yes   \n",
              "3         Yes          No              No        One year               No   \n",
              "4          No          No              No  Month-to-month              Yes   \n",
              "\n",
              "               PaymentMethod MonthlyCharges  TotalCharges Churn  \n",
              "0           Electronic check          29.85         29.85    No  \n",
              "1               Mailed check          56.95        1889.5    No  \n",
              "2               Mailed check          53.85        108.15   Yes  \n",
              "3  Bank transfer (automatic)          42.30       1840.75    No  \n",
              "4           Electronic check          70.70        151.65   Yes  \n",
              "\n",
              "[5 rows x 21 columns]"
            ]
          },
          "execution_count": 5,
          "metadata": {},
          "output_type": "execute_result"
        }
      ],
      "source": [
        "TCC.head()"
      ]
    },
    {
      "cell_type": "code",
      "execution_count": null,
      "metadata": {
        "colab": {
          "base_uri": "https://localhost:8080/",
          "height": 386
        },
        "id": "UMWdAcXqoZL0",
        "outputId": "ba7aab43-4cf5-4db4-9876-cd9377ec9303"
      },
      "outputs": [
        {
          "data": {
            "text/html": [
              "\n",
              "  <div id=\"df-40658da2-8ed7-4716-8175-a159965b0d7f\">\n",
              "    <div class=\"colab-df-container\">\n",
              "      <div>\n",
              "<style scoped>\n",
              "    .dataframe tbody tr th:only-of-type {\n",
              "        vertical-align: middle;\n",
              "    }\n",
              "\n",
              "    .dataframe tbody tr th {\n",
              "        vertical-align: top;\n",
              "    }\n",
              "\n",
              "    .dataframe thead th {\n",
              "        text-align: right;\n",
              "    }\n",
              "</style>\n",
              "<table border=\"1\" class=\"dataframe\">\n",
              "  <thead>\n",
              "    <tr style=\"text-align: right;\">\n",
              "      <th></th>\n",
              "      <th>customerID</th>\n",
              "      <th>gender</th>\n",
              "      <th>SeniorCitizen</th>\n",
              "      <th>Partner</th>\n",
              "      <th>Dependents</th>\n",
              "      <th>tenure</th>\n",
              "      <th>PhoneService</th>\n",
              "      <th>MultipleLines</th>\n",
              "      <th>InternetService</th>\n",
              "      <th>OnlineSecurity</th>\n",
              "      <th>...</th>\n",
              "      <th>DeviceProtection</th>\n",
              "      <th>TechSupport</th>\n",
              "      <th>StreamingTV</th>\n",
              "      <th>StreamingMovies</th>\n",
              "      <th>Contract</th>\n",
              "      <th>PaperlessBilling</th>\n",
              "      <th>PaymentMethod</th>\n",
              "      <th>MonthlyCharges</th>\n",
              "      <th>TotalCharges</th>\n",
              "      <th>Churn</th>\n",
              "    </tr>\n",
              "  </thead>\n",
              "  <tbody>\n",
              "    <tr>\n",
              "      <th>7038</th>\n",
              "      <td>6840-RESVB</td>\n",
              "      <td>Male</td>\n",
              "      <td>0</td>\n",
              "      <td>Yes</td>\n",
              "      <td>Yes</td>\n",
              "      <td>24</td>\n",
              "      <td>Yes</td>\n",
              "      <td>Yes</td>\n",
              "      <td>DSL</td>\n",
              "      <td>Yes</td>\n",
              "      <td>...</td>\n",
              "      <td>Yes</td>\n",
              "      <td>Yes</td>\n",
              "      <td>Yes</td>\n",
              "      <td>Yes</td>\n",
              "      <td>One year</td>\n",
              "      <td>Yes</td>\n",
              "      <td>Mailed check</td>\n",
              "      <td>84.80</td>\n",
              "      <td>1990.5</td>\n",
              "      <td>No</td>\n",
              "    </tr>\n",
              "    <tr>\n",
              "      <th>7039</th>\n",
              "      <td>2234-XADUH</td>\n",
              "      <td>Female</td>\n",
              "      <td>0</td>\n",
              "      <td>Yes</td>\n",
              "      <td>Yes</td>\n",
              "      <td>72</td>\n",
              "      <td>Yes</td>\n",
              "      <td>Yes</td>\n",
              "      <td>Fiber optic</td>\n",
              "      <td>No</td>\n",
              "      <td>...</td>\n",
              "      <td>Yes</td>\n",
              "      <td>No</td>\n",
              "      <td>Yes</td>\n",
              "      <td>Yes</td>\n",
              "      <td>One year</td>\n",
              "      <td>Yes</td>\n",
              "      <td>Credit card (automatic)</td>\n",
              "      <td>103.20</td>\n",
              "      <td>7362.9</td>\n",
              "      <td>No</td>\n",
              "    </tr>\n",
              "    <tr>\n",
              "      <th>7040</th>\n",
              "      <td>4801-JZAZL</td>\n",
              "      <td>Female</td>\n",
              "      <td>0</td>\n",
              "      <td>Yes</td>\n",
              "      <td>Yes</td>\n",
              "      <td>11</td>\n",
              "      <td>No</td>\n",
              "      <td>No phone service</td>\n",
              "      <td>DSL</td>\n",
              "      <td>Yes</td>\n",
              "      <td>...</td>\n",
              "      <td>No</td>\n",
              "      <td>No</td>\n",
              "      <td>No</td>\n",
              "      <td>No</td>\n",
              "      <td>Month-to-month</td>\n",
              "      <td>Yes</td>\n",
              "      <td>Electronic check</td>\n",
              "      <td>29.60</td>\n",
              "      <td>346.45</td>\n",
              "      <td>No</td>\n",
              "    </tr>\n",
              "    <tr>\n",
              "      <th>7041</th>\n",
              "      <td>8361-LTMKD</td>\n",
              "      <td>Male</td>\n",
              "      <td>1</td>\n",
              "      <td>Yes</td>\n",
              "      <td>No</td>\n",
              "      <td>4</td>\n",
              "      <td>Yes</td>\n",
              "      <td>Yes</td>\n",
              "      <td>Fiber optic</td>\n",
              "      <td>No</td>\n",
              "      <td>...</td>\n",
              "      <td>No</td>\n",
              "      <td>No</td>\n",
              "      <td>No</td>\n",
              "      <td>No</td>\n",
              "      <td>Month-to-month</td>\n",
              "      <td>Yes</td>\n",
              "      <td>Mailed check</td>\n",
              "      <td>74.40</td>\n",
              "      <td>306.6</td>\n",
              "      <td>Yes</td>\n",
              "    </tr>\n",
              "    <tr>\n",
              "      <th>7042</th>\n",
              "      <td>3186-AJIEK</td>\n",
              "      <td>Male</td>\n",
              "      <td>0</td>\n",
              "      <td>No</td>\n",
              "      <td>No</td>\n",
              "      <td>66</td>\n",
              "      <td>Yes</td>\n",
              "      <td>No</td>\n",
              "      <td>Fiber optic</td>\n",
              "      <td>Yes</td>\n",
              "      <td>...</td>\n",
              "      <td>Yes</td>\n",
              "      <td>Yes</td>\n",
              "      <td>Yes</td>\n",
              "      <td>Yes</td>\n",
              "      <td>Two year</td>\n",
              "      <td>Yes</td>\n",
              "      <td>Bank transfer (automatic)</td>\n",
              "      <td>105.65</td>\n",
              "      <td>6844.5</td>\n",
              "      <td>No</td>\n",
              "    </tr>\n",
              "  </tbody>\n",
              "</table>\n",
              "<p>5 rows × 21 columns</p>\n",
              "</div>\n",
              "      <button class=\"colab-df-convert\" onclick=\"convertToInteractive('df-40658da2-8ed7-4716-8175-a159965b0d7f')\"\n",
              "              title=\"Convert this dataframe to an interactive table.\"\n",
              "              style=\"display:none;\">\n",
              "        \n",
              "  <svg xmlns=\"http://www.w3.org/2000/svg\" height=\"24px\"viewBox=\"0 0 24 24\"\n",
              "       width=\"24px\">\n",
              "    <path d=\"M0 0h24v24H0V0z\" fill=\"none\"/>\n",
              "    <path d=\"M18.56 5.44l.94 2.06.94-2.06 2.06-.94-2.06-.94-.94-2.06-.94 2.06-2.06.94zm-11 1L8.5 8.5l.94-2.06 2.06-.94-2.06-.94L8.5 2.5l-.94 2.06-2.06.94zm10 10l.94 2.06.94-2.06 2.06-.94-2.06-.94-.94-2.06-.94 2.06-2.06.94z\"/><path d=\"M17.41 7.96l-1.37-1.37c-.4-.4-.92-.59-1.43-.59-.52 0-1.04.2-1.43.59L10.3 9.45l-7.72 7.72c-.78.78-.78 2.05 0 2.83L4 21.41c.39.39.9.59 1.41.59.51 0 1.02-.2 1.41-.59l7.78-7.78 2.81-2.81c.8-.78.8-2.07 0-2.86zM5.41 20L4 18.59l7.72-7.72 1.47 1.35L5.41 20z\"/>\n",
              "  </svg>\n",
              "      </button>\n",
              "      \n",
              "  <style>\n",
              "    .colab-df-container {\n",
              "      display:flex;\n",
              "      flex-wrap:wrap;\n",
              "      gap: 12px;\n",
              "    }\n",
              "\n",
              "    .colab-df-convert {\n",
              "      background-color: #E8F0FE;\n",
              "      border: none;\n",
              "      border-radius: 50%;\n",
              "      cursor: pointer;\n",
              "      display: none;\n",
              "      fill: #1967D2;\n",
              "      height: 32px;\n",
              "      padding: 0 0 0 0;\n",
              "      width: 32px;\n",
              "    }\n",
              "\n",
              "    .colab-df-convert:hover {\n",
              "      background-color: #E2EBFA;\n",
              "      box-shadow: 0px 1px 2px rgba(60, 64, 67, 0.3), 0px 1px 3px 1px rgba(60, 64, 67, 0.15);\n",
              "      fill: #174EA6;\n",
              "    }\n",
              "\n",
              "    [theme=dark] .colab-df-convert {\n",
              "      background-color: #3B4455;\n",
              "      fill: #D2E3FC;\n",
              "    }\n",
              "\n",
              "    [theme=dark] .colab-df-convert:hover {\n",
              "      background-color: #434B5C;\n",
              "      box-shadow: 0px 1px 3px 1px rgba(0, 0, 0, 0.15);\n",
              "      filter: drop-shadow(0px 1px 2px rgba(0, 0, 0, 0.3));\n",
              "      fill: #FFFFFF;\n",
              "    }\n",
              "  </style>\n",
              "\n",
              "      <script>\n",
              "        const buttonEl =\n",
              "          document.querySelector('#df-40658da2-8ed7-4716-8175-a159965b0d7f button.colab-df-convert');\n",
              "        buttonEl.style.display =\n",
              "          google.colab.kernel.accessAllowed ? 'block' : 'none';\n",
              "\n",
              "        async function convertToInteractive(key) {\n",
              "          const element = document.querySelector('#df-40658da2-8ed7-4716-8175-a159965b0d7f');\n",
              "          const dataTable =\n",
              "            await google.colab.kernel.invokeFunction('convertToInteractive',\n",
              "                                                     [key], {});\n",
              "          if (!dataTable) return;\n",
              "\n",
              "          const docLinkHtml = 'Like what you see? Visit the ' +\n",
              "            '<a target=\"_blank\" href=https://colab.research.google.com/notebooks/data_table.ipynb>data table notebook</a>'\n",
              "            + ' to learn more about interactive tables.';\n",
              "          element.innerHTML = '';\n",
              "          dataTable['output_type'] = 'display_data';\n",
              "          await google.colab.output.renderOutput(dataTable, element);\n",
              "          const docLink = document.createElement('div');\n",
              "          docLink.innerHTML = docLinkHtml;\n",
              "          element.appendChild(docLink);\n",
              "        }\n",
              "      </script>\n",
              "    </div>\n",
              "  </div>\n",
              "  "
            ],
            "text/plain": [
              "      customerID  gender  SeniorCitizen Partner Dependents  tenure  \\\n",
              "7038  6840-RESVB    Male              0     Yes        Yes      24   \n",
              "7039  2234-XADUH  Female              0     Yes        Yes      72   \n",
              "7040  4801-JZAZL  Female              0     Yes        Yes      11   \n",
              "7041  8361-LTMKD    Male              1     Yes         No       4   \n",
              "7042  3186-AJIEK    Male              0      No         No      66   \n",
              "\n",
              "     PhoneService     MultipleLines InternetService OnlineSecurity  ...  \\\n",
              "7038          Yes               Yes             DSL            Yes  ...   \n",
              "7039          Yes               Yes     Fiber optic             No  ...   \n",
              "7040           No  No phone service             DSL            Yes  ...   \n",
              "7041          Yes               Yes     Fiber optic             No  ...   \n",
              "7042          Yes                No     Fiber optic            Yes  ...   \n",
              "\n",
              "     DeviceProtection TechSupport StreamingTV StreamingMovies        Contract  \\\n",
              "7038              Yes         Yes         Yes             Yes        One year   \n",
              "7039              Yes          No         Yes             Yes        One year   \n",
              "7040               No          No          No              No  Month-to-month   \n",
              "7041               No          No          No              No  Month-to-month   \n",
              "7042              Yes         Yes         Yes             Yes        Two year   \n",
              "\n",
              "     PaperlessBilling              PaymentMethod MonthlyCharges  TotalCharges  \\\n",
              "7038              Yes               Mailed check          84.80        1990.5   \n",
              "7039              Yes    Credit card (automatic)         103.20        7362.9   \n",
              "7040              Yes           Electronic check          29.60        346.45   \n",
              "7041              Yes               Mailed check          74.40         306.6   \n",
              "7042              Yes  Bank transfer (automatic)         105.65        6844.5   \n",
              "\n",
              "     Churn  \n",
              "7038    No  \n",
              "7039    No  \n",
              "7040    No  \n",
              "7041   Yes  \n",
              "7042    No  \n",
              "\n",
              "[5 rows x 21 columns]"
            ]
          },
          "execution_count": 6,
          "metadata": {},
          "output_type": "execute_result"
        }
      ],
      "source": [
        "TCC.tail()"
      ]
    },
    {
      "cell_type": "code",
      "execution_count": null,
      "metadata": {
        "colab": {
          "base_uri": "https://localhost:8080/"
        },
        "id": "soy9ZbwponDT",
        "outputId": "04e990f3-287c-40f3-e382-d3f782a62985"
      },
      "outputs": [
        {
          "name": "stdout",
          "output_type": "stream",
          "text": [
            "<class 'pandas.core.frame.DataFrame'>\n",
            "RangeIndex: 7043 entries, 0 to 7042\n",
            "Data columns (total 21 columns):\n",
            " #   Column            Non-Null Count  Dtype  \n",
            "---  ------            --------------  -----  \n",
            " 0   customerID        7043 non-null   object \n",
            " 1   gender            7043 non-null   object \n",
            " 2   SeniorCitizen     7043 non-null   int64  \n",
            " 3   Partner           7043 non-null   object \n",
            " 4   Dependents        7043 non-null   object \n",
            " 5   tenure            7043 non-null   int64  \n",
            " 6   PhoneService      7043 non-null   object \n",
            " 7   MultipleLines     7043 non-null   object \n",
            " 8   InternetService   7043 non-null   object \n",
            " 9   OnlineSecurity    7043 non-null   object \n",
            " 10  OnlineBackup      7043 non-null   object \n",
            " 11  DeviceProtection  7043 non-null   object \n",
            " 12  TechSupport       7043 non-null   object \n",
            " 13  StreamingTV       7043 non-null   object \n",
            " 14  StreamingMovies   7043 non-null   object \n",
            " 15  Contract          7043 non-null   object \n",
            " 16  PaperlessBilling  7043 non-null   object \n",
            " 17  PaymentMethod     7043 non-null   object \n",
            " 18  MonthlyCharges    7043 non-null   float64\n",
            " 19  TotalCharges      7043 non-null   object \n",
            " 20  Churn             7043 non-null   object \n",
            "dtypes: float64(1), int64(2), object(18)\n",
            "memory usage: 1.1+ MB\n"
          ]
        }
      ],
      "source": [
        "TCC.info()"
      ]
    },
    {
      "cell_type": "code",
      "execution_count": null,
      "metadata": {
        "colab": {
          "base_uri": "https://localhost:8080/",
          "height": 300
        },
        "id": "N5AAXHKUpJjR",
        "outputId": "fabef976-3271-47ad-87de-dbeb7cdfa079"
      },
      "outputs": [
        {
          "data": {
            "text/html": [
              "\n",
              "  <div id=\"df-77e8560f-629f-4fdd-9b9e-ea38e104e2f3\">\n",
              "    <div class=\"colab-df-container\">\n",
              "      <div>\n",
              "<style scoped>\n",
              "    .dataframe tbody tr th:only-of-type {\n",
              "        vertical-align: middle;\n",
              "    }\n",
              "\n",
              "    .dataframe tbody tr th {\n",
              "        vertical-align: top;\n",
              "    }\n",
              "\n",
              "    .dataframe thead th {\n",
              "        text-align: right;\n",
              "    }\n",
              "</style>\n",
              "<table border=\"1\" class=\"dataframe\">\n",
              "  <thead>\n",
              "    <tr style=\"text-align: right;\">\n",
              "      <th></th>\n",
              "      <th>SeniorCitizen</th>\n",
              "      <th>tenure</th>\n",
              "      <th>MonthlyCharges</th>\n",
              "    </tr>\n",
              "  </thead>\n",
              "  <tbody>\n",
              "    <tr>\n",
              "      <th>count</th>\n",
              "      <td>7043.000000</td>\n",
              "      <td>7043.000000</td>\n",
              "      <td>7043.000000</td>\n",
              "    </tr>\n",
              "    <tr>\n",
              "      <th>mean</th>\n",
              "      <td>0.162147</td>\n",
              "      <td>32.371149</td>\n",
              "      <td>64.761692</td>\n",
              "    </tr>\n",
              "    <tr>\n",
              "      <th>std</th>\n",
              "      <td>0.368612</td>\n",
              "      <td>24.559481</td>\n",
              "      <td>30.090047</td>\n",
              "    </tr>\n",
              "    <tr>\n",
              "      <th>min</th>\n",
              "      <td>0.000000</td>\n",
              "      <td>0.000000</td>\n",
              "      <td>18.250000</td>\n",
              "    </tr>\n",
              "    <tr>\n",
              "      <th>25%</th>\n",
              "      <td>0.000000</td>\n",
              "      <td>9.000000</td>\n",
              "      <td>35.500000</td>\n",
              "    </tr>\n",
              "    <tr>\n",
              "      <th>50%</th>\n",
              "      <td>0.000000</td>\n",
              "      <td>29.000000</td>\n",
              "      <td>70.350000</td>\n",
              "    </tr>\n",
              "    <tr>\n",
              "      <th>75%</th>\n",
              "      <td>0.000000</td>\n",
              "      <td>55.000000</td>\n",
              "      <td>89.850000</td>\n",
              "    </tr>\n",
              "    <tr>\n",
              "      <th>max</th>\n",
              "      <td>1.000000</td>\n",
              "      <td>72.000000</td>\n",
              "      <td>118.750000</td>\n",
              "    </tr>\n",
              "  </tbody>\n",
              "</table>\n",
              "</div>\n",
              "      <button class=\"colab-df-convert\" onclick=\"convertToInteractive('df-77e8560f-629f-4fdd-9b9e-ea38e104e2f3')\"\n",
              "              title=\"Convert this dataframe to an interactive table.\"\n",
              "              style=\"display:none;\">\n",
              "        \n",
              "  <svg xmlns=\"http://www.w3.org/2000/svg\" height=\"24px\"viewBox=\"0 0 24 24\"\n",
              "       width=\"24px\">\n",
              "    <path d=\"M0 0h24v24H0V0z\" fill=\"none\"/>\n",
              "    <path d=\"M18.56 5.44l.94 2.06.94-2.06 2.06-.94-2.06-.94-.94-2.06-.94 2.06-2.06.94zm-11 1L8.5 8.5l.94-2.06 2.06-.94-2.06-.94L8.5 2.5l-.94 2.06-2.06.94zm10 10l.94 2.06.94-2.06 2.06-.94-2.06-.94-.94-2.06-.94 2.06-2.06.94z\"/><path d=\"M17.41 7.96l-1.37-1.37c-.4-.4-.92-.59-1.43-.59-.52 0-1.04.2-1.43.59L10.3 9.45l-7.72 7.72c-.78.78-.78 2.05 0 2.83L4 21.41c.39.39.9.59 1.41.59.51 0 1.02-.2 1.41-.59l7.78-7.78 2.81-2.81c.8-.78.8-2.07 0-2.86zM5.41 20L4 18.59l7.72-7.72 1.47 1.35L5.41 20z\"/>\n",
              "  </svg>\n",
              "      </button>\n",
              "      \n",
              "  <style>\n",
              "    .colab-df-container {\n",
              "      display:flex;\n",
              "      flex-wrap:wrap;\n",
              "      gap: 12px;\n",
              "    }\n",
              "\n",
              "    .colab-df-convert {\n",
              "      background-color: #E8F0FE;\n",
              "      border: none;\n",
              "      border-radius: 50%;\n",
              "      cursor: pointer;\n",
              "      display: none;\n",
              "      fill: #1967D2;\n",
              "      height: 32px;\n",
              "      padding: 0 0 0 0;\n",
              "      width: 32px;\n",
              "    }\n",
              "\n",
              "    .colab-df-convert:hover {\n",
              "      background-color: #E2EBFA;\n",
              "      box-shadow: 0px 1px 2px rgba(60, 64, 67, 0.3), 0px 1px 3px 1px rgba(60, 64, 67, 0.15);\n",
              "      fill: #174EA6;\n",
              "    }\n",
              "\n",
              "    [theme=dark] .colab-df-convert {\n",
              "      background-color: #3B4455;\n",
              "      fill: #D2E3FC;\n",
              "    }\n",
              "\n",
              "    [theme=dark] .colab-df-convert:hover {\n",
              "      background-color: #434B5C;\n",
              "      box-shadow: 0px 1px 3px 1px rgba(0, 0, 0, 0.15);\n",
              "      filter: drop-shadow(0px 1px 2px rgba(0, 0, 0, 0.3));\n",
              "      fill: #FFFFFF;\n",
              "    }\n",
              "  </style>\n",
              "\n",
              "      <script>\n",
              "        const buttonEl =\n",
              "          document.querySelector('#df-77e8560f-629f-4fdd-9b9e-ea38e104e2f3 button.colab-df-convert');\n",
              "        buttonEl.style.display =\n",
              "          google.colab.kernel.accessAllowed ? 'block' : 'none';\n",
              "\n",
              "        async function convertToInteractive(key) {\n",
              "          const element = document.querySelector('#df-77e8560f-629f-4fdd-9b9e-ea38e104e2f3');\n",
              "          const dataTable =\n",
              "            await google.colab.kernel.invokeFunction('convertToInteractive',\n",
              "                                                     [key], {});\n",
              "          if (!dataTable) return;\n",
              "\n",
              "          const docLinkHtml = 'Like what you see? Visit the ' +\n",
              "            '<a target=\"_blank\" href=https://colab.research.google.com/notebooks/data_table.ipynb>data table notebook</a>'\n",
              "            + ' to learn more about interactive tables.';\n",
              "          element.innerHTML = '';\n",
              "          dataTable['output_type'] = 'display_data';\n",
              "          await google.colab.output.renderOutput(dataTable, element);\n",
              "          const docLink = document.createElement('div');\n",
              "          docLink.innerHTML = docLinkHtml;\n",
              "          element.appendChild(docLink);\n",
              "        }\n",
              "      </script>\n",
              "    </div>\n",
              "  </div>\n",
              "  "
            ],
            "text/plain": [
              "       SeniorCitizen       tenure  MonthlyCharges\n",
              "count    7043.000000  7043.000000     7043.000000\n",
              "mean        0.162147    32.371149       64.761692\n",
              "std         0.368612    24.559481       30.090047\n",
              "min         0.000000     0.000000       18.250000\n",
              "25%         0.000000     9.000000       35.500000\n",
              "50%         0.000000    29.000000       70.350000\n",
              "75%         0.000000    55.000000       89.850000\n",
              "max         1.000000    72.000000      118.750000"
            ]
          },
          "execution_count": 8,
          "metadata": {},
          "output_type": "execute_result"
        }
      ],
      "source": [
        "TCC.describe()"
      ]
    },
    {
      "cell_type": "markdown",
      "metadata": {
        "id": "w25tFg8D0FJX"
      },
      "source": [
        "CHECKING THE NULL VALUE"
      ]
    },
    {
      "cell_type": "code",
      "execution_count": null,
      "metadata": {
        "colab": {
          "base_uri": "https://localhost:8080/"
        },
        "id": "JE65nW34xd2h",
        "outputId": "a479e9bf-3ed3-4317-fb28-74fdfc062fc6"
      },
      "outputs": [
        {
          "data": {
            "text/plain": [
              "customerID          0\n",
              "gender              0\n",
              "SeniorCitizen       0\n",
              "Partner             0\n",
              "Dependents          0\n",
              "tenure              0\n",
              "PhoneService        0\n",
              "MultipleLines       0\n",
              "InternetService     0\n",
              "OnlineSecurity      0\n",
              "OnlineBackup        0\n",
              "DeviceProtection    0\n",
              "TechSupport         0\n",
              "StreamingTV         0\n",
              "StreamingMovies     0\n",
              "Contract            0\n",
              "PaperlessBilling    0\n",
              "PaymentMethod       0\n",
              "MonthlyCharges      0\n",
              "TotalCharges        0\n",
              "Churn               0\n",
              "dtype: int64"
            ]
          },
          "execution_count": 9,
          "metadata": {},
          "output_type": "execute_result"
        }
      ],
      "source": [
        "TCC.isnull().sum()"
      ]
    },
    {
      "cell_type": "code",
      "execution_count": null,
      "metadata": {
        "colab": {
          "base_uri": "https://localhost:8080/",
          "height": 661
        },
        "id": "Sv3y5NFvLrH7",
        "outputId": "0b9fbf61-d8f4-4dd0-f85b-65a761c5c3e7"
      },
      "outputs": [
        {
          "data": {
            "text/html": [
              "\n",
              "  <div id=\"df-71399494-b4a1-442f-8041-eb48cd10a73a\">\n",
              "    <div class=\"colab-df-container\">\n",
              "      <div>\n",
              "<style scoped>\n",
              "    .dataframe tbody tr th:only-of-type {\n",
              "        vertical-align: middle;\n",
              "    }\n",
              "\n",
              "    .dataframe tbody tr th {\n",
              "        vertical-align: top;\n",
              "    }\n",
              "\n",
              "    .dataframe thead th {\n",
              "        text-align: right;\n",
              "    }\n",
              "</style>\n",
              "<table border=\"1\" class=\"dataframe\">\n",
              "  <thead>\n",
              "    <tr style=\"text-align: right;\">\n",
              "      <th></th>\n",
              "      <th>customerID</th>\n",
              "      <th>gender</th>\n",
              "      <th>SeniorCitizen</th>\n",
              "      <th>Partner</th>\n",
              "      <th>Dependents</th>\n",
              "      <th>tenure</th>\n",
              "      <th>PhoneService</th>\n",
              "      <th>MultipleLines</th>\n",
              "      <th>InternetService</th>\n",
              "      <th>OnlineSecurity</th>\n",
              "      <th>...</th>\n",
              "      <th>DeviceProtection</th>\n",
              "      <th>TechSupport</th>\n",
              "      <th>StreamingTV</th>\n",
              "      <th>StreamingMovies</th>\n",
              "      <th>Contract</th>\n",
              "      <th>PaperlessBilling</th>\n",
              "      <th>PaymentMethod</th>\n",
              "      <th>MonthlyCharges</th>\n",
              "      <th>TotalCharges</th>\n",
              "      <th>Churn</th>\n",
              "    </tr>\n",
              "  </thead>\n",
              "  <tbody>\n",
              "    <tr>\n",
              "      <th>0</th>\n",
              "      <td>7590-VHVEG</td>\n",
              "      <td>Female</td>\n",
              "      <td>0</td>\n",
              "      <td>Yes</td>\n",
              "      <td>No</td>\n",
              "      <td>1</td>\n",
              "      <td>No</td>\n",
              "      <td>No phone service</td>\n",
              "      <td>DSL</td>\n",
              "      <td>No</td>\n",
              "      <td>...</td>\n",
              "      <td>No</td>\n",
              "      <td>No</td>\n",
              "      <td>No</td>\n",
              "      <td>No</td>\n",
              "      <td>Month-to-month</td>\n",
              "      <td>Yes</td>\n",
              "      <td>Electronic check</td>\n",
              "      <td>29.85</td>\n",
              "      <td>29.85</td>\n",
              "      <td>No</td>\n",
              "    </tr>\n",
              "    <tr>\n",
              "      <th>1</th>\n",
              "      <td>5575-GNVDE</td>\n",
              "      <td>Male</td>\n",
              "      <td>0</td>\n",
              "      <td>No</td>\n",
              "      <td>No</td>\n",
              "      <td>34</td>\n",
              "      <td>Yes</td>\n",
              "      <td>No</td>\n",
              "      <td>DSL</td>\n",
              "      <td>Yes</td>\n",
              "      <td>...</td>\n",
              "      <td>Yes</td>\n",
              "      <td>No</td>\n",
              "      <td>No</td>\n",
              "      <td>No</td>\n",
              "      <td>One year</td>\n",
              "      <td>No</td>\n",
              "      <td>Mailed check</td>\n",
              "      <td>56.95</td>\n",
              "      <td>1889.5</td>\n",
              "      <td>No</td>\n",
              "    </tr>\n",
              "    <tr>\n",
              "      <th>2</th>\n",
              "      <td>3668-QPYBK</td>\n",
              "      <td>Male</td>\n",
              "      <td>0</td>\n",
              "      <td>No</td>\n",
              "      <td>No</td>\n",
              "      <td>2</td>\n",
              "      <td>Yes</td>\n",
              "      <td>No</td>\n",
              "      <td>DSL</td>\n",
              "      <td>Yes</td>\n",
              "      <td>...</td>\n",
              "      <td>No</td>\n",
              "      <td>No</td>\n",
              "      <td>No</td>\n",
              "      <td>No</td>\n",
              "      <td>Month-to-month</td>\n",
              "      <td>Yes</td>\n",
              "      <td>Mailed check</td>\n",
              "      <td>53.85</td>\n",
              "      <td>108.15</td>\n",
              "      <td>Yes</td>\n",
              "    </tr>\n",
              "    <tr>\n",
              "      <th>3</th>\n",
              "      <td>7795-CFOCW</td>\n",
              "      <td>Male</td>\n",
              "      <td>0</td>\n",
              "      <td>No</td>\n",
              "      <td>No</td>\n",
              "      <td>45</td>\n",
              "      <td>No</td>\n",
              "      <td>No phone service</td>\n",
              "      <td>DSL</td>\n",
              "      <td>Yes</td>\n",
              "      <td>...</td>\n",
              "      <td>Yes</td>\n",
              "      <td>Yes</td>\n",
              "      <td>No</td>\n",
              "      <td>No</td>\n",
              "      <td>One year</td>\n",
              "      <td>No</td>\n",
              "      <td>Bank transfer (automatic)</td>\n",
              "      <td>42.3</td>\n",
              "      <td>1840.75</td>\n",
              "      <td>No</td>\n",
              "    </tr>\n",
              "    <tr>\n",
              "      <th>4</th>\n",
              "      <td>9237-HQITU</td>\n",
              "      <td>Female</td>\n",
              "      <td>0</td>\n",
              "      <td>No</td>\n",
              "      <td>No</td>\n",
              "      <td>2</td>\n",
              "      <td>Yes</td>\n",
              "      <td>No</td>\n",
              "      <td>Fiber optic</td>\n",
              "      <td>No</td>\n",
              "      <td>...</td>\n",
              "      <td>No</td>\n",
              "      <td>No</td>\n",
              "      <td>No</td>\n",
              "      <td>No</td>\n",
              "      <td>Month-to-month</td>\n",
              "      <td>Yes</td>\n",
              "      <td>Electronic check</td>\n",
              "      <td>70.7</td>\n",
              "      <td>151.65</td>\n",
              "      <td>Yes</td>\n",
              "    </tr>\n",
              "    <tr>\n",
              "      <th>...</th>\n",
              "      <td>...</td>\n",
              "      <td>...</td>\n",
              "      <td>...</td>\n",
              "      <td>...</td>\n",
              "      <td>...</td>\n",
              "      <td>...</td>\n",
              "      <td>...</td>\n",
              "      <td>...</td>\n",
              "      <td>...</td>\n",
              "      <td>...</td>\n",
              "      <td>...</td>\n",
              "      <td>...</td>\n",
              "      <td>...</td>\n",
              "      <td>...</td>\n",
              "      <td>...</td>\n",
              "      <td>...</td>\n",
              "      <td>...</td>\n",
              "      <td>...</td>\n",
              "      <td>...</td>\n",
              "      <td>...</td>\n",
              "      <td>...</td>\n",
              "    </tr>\n",
              "    <tr>\n",
              "      <th>7038</th>\n",
              "      <td>6840-RESVB</td>\n",
              "      <td>Male</td>\n",
              "      <td>0</td>\n",
              "      <td>Yes</td>\n",
              "      <td>Yes</td>\n",
              "      <td>24</td>\n",
              "      <td>Yes</td>\n",
              "      <td>Yes</td>\n",
              "      <td>DSL</td>\n",
              "      <td>Yes</td>\n",
              "      <td>...</td>\n",
              "      <td>Yes</td>\n",
              "      <td>Yes</td>\n",
              "      <td>Yes</td>\n",
              "      <td>Yes</td>\n",
              "      <td>One year</td>\n",
              "      <td>Yes</td>\n",
              "      <td>Mailed check</td>\n",
              "      <td>84.8</td>\n",
              "      <td>1990.5</td>\n",
              "      <td>No</td>\n",
              "    </tr>\n",
              "    <tr>\n",
              "      <th>7039</th>\n",
              "      <td>2234-XADUH</td>\n",
              "      <td>Female</td>\n",
              "      <td>0</td>\n",
              "      <td>Yes</td>\n",
              "      <td>Yes</td>\n",
              "      <td>72</td>\n",
              "      <td>Yes</td>\n",
              "      <td>Yes</td>\n",
              "      <td>Fiber optic</td>\n",
              "      <td>No</td>\n",
              "      <td>...</td>\n",
              "      <td>Yes</td>\n",
              "      <td>No</td>\n",
              "      <td>Yes</td>\n",
              "      <td>Yes</td>\n",
              "      <td>One year</td>\n",
              "      <td>Yes</td>\n",
              "      <td>Credit card (automatic)</td>\n",
              "      <td>103.2</td>\n",
              "      <td>7362.9</td>\n",
              "      <td>No</td>\n",
              "    </tr>\n",
              "    <tr>\n",
              "      <th>7040</th>\n",
              "      <td>4801-JZAZL</td>\n",
              "      <td>Female</td>\n",
              "      <td>0</td>\n",
              "      <td>Yes</td>\n",
              "      <td>Yes</td>\n",
              "      <td>11</td>\n",
              "      <td>No</td>\n",
              "      <td>No phone service</td>\n",
              "      <td>DSL</td>\n",
              "      <td>Yes</td>\n",
              "      <td>...</td>\n",
              "      <td>No</td>\n",
              "      <td>No</td>\n",
              "      <td>No</td>\n",
              "      <td>No</td>\n",
              "      <td>Month-to-month</td>\n",
              "      <td>Yes</td>\n",
              "      <td>Electronic check</td>\n",
              "      <td>29.6</td>\n",
              "      <td>346.45</td>\n",
              "      <td>No</td>\n",
              "    </tr>\n",
              "    <tr>\n",
              "      <th>7041</th>\n",
              "      <td>8361-LTMKD</td>\n",
              "      <td>Male</td>\n",
              "      <td>1</td>\n",
              "      <td>Yes</td>\n",
              "      <td>No</td>\n",
              "      <td>4</td>\n",
              "      <td>Yes</td>\n",
              "      <td>Yes</td>\n",
              "      <td>Fiber optic</td>\n",
              "      <td>No</td>\n",
              "      <td>...</td>\n",
              "      <td>No</td>\n",
              "      <td>No</td>\n",
              "      <td>No</td>\n",
              "      <td>No</td>\n",
              "      <td>Month-to-month</td>\n",
              "      <td>Yes</td>\n",
              "      <td>Mailed check</td>\n",
              "      <td>74.4</td>\n",
              "      <td>306.6</td>\n",
              "      <td>Yes</td>\n",
              "    </tr>\n",
              "    <tr>\n",
              "      <th>7042</th>\n",
              "      <td>3186-AJIEK</td>\n",
              "      <td>Male</td>\n",
              "      <td>0</td>\n",
              "      <td>No</td>\n",
              "      <td>No</td>\n",
              "      <td>66</td>\n",
              "      <td>Yes</td>\n",
              "      <td>No</td>\n",
              "      <td>Fiber optic</td>\n",
              "      <td>Yes</td>\n",
              "      <td>...</td>\n",
              "      <td>Yes</td>\n",
              "      <td>Yes</td>\n",
              "      <td>Yes</td>\n",
              "      <td>Yes</td>\n",
              "      <td>Two year</td>\n",
              "      <td>Yes</td>\n",
              "      <td>Bank transfer (automatic)</td>\n",
              "      <td>105.65</td>\n",
              "      <td>6844.5</td>\n",
              "      <td>No</td>\n",
              "    </tr>\n",
              "  </tbody>\n",
              "</table>\n",
              "<p>7043 rows × 21 columns</p>\n",
              "</div>\n",
              "      <button class=\"colab-df-convert\" onclick=\"convertToInteractive('df-71399494-b4a1-442f-8041-eb48cd10a73a')\"\n",
              "              title=\"Convert this dataframe to an interactive table.\"\n",
              "              style=\"display:none;\">\n",
              "        \n",
              "  <svg xmlns=\"http://www.w3.org/2000/svg\" height=\"24px\"viewBox=\"0 0 24 24\"\n",
              "       width=\"24px\">\n",
              "    <path d=\"M0 0h24v24H0V0z\" fill=\"none\"/>\n",
              "    <path d=\"M18.56 5.44l.94 2.06.94-2.06 2.06-.94-2.06-.94-.94-2.06-.94 2.06-2.06.94zm-11 1L8.5 8.5l.94-2.06 2.06-.94-2.06-.94L8.5 2.5l-.94 2.06-2.06.94zm10 10l.94 2.06.94-2.06 2.06-.94-2.06-.94-.94-2.06-.94 2.06-2.06.94z\"/><path d=\"M17.41 7.96l-1.37-1.37c-.4-.4-.92-.59-1.43-.59-.52 0-1.04.2-1.43.59L10.3 9.45l-7.72 7.72c-.78.78-.78 2.05 0 2.83L4 21.41c.39.39.9.59 1.41.59.51 0 1.02-.2 1.41-.59l7.78-7.78 2.81-2.81c.8-.78.8-2.07 0-2.86zM5.41 20L4 18.59l7.72-7.72 1.47 1.35L5.41 20z\"/>\n",
              "  </svg>\n",
              "      </button>\n",
              "      \n",
              "  <style>\n",
              "    .colab-df-container {\n",
              "      display:flex;\n",
              "      flex-wrap:wrap;\n",
              "      gap: 12px;\n",
              "    }\n",
              "\n",
              "    .colab-df-convert {\n",
              "      background-color: #E8F0FE;\n",
              "      border: none;\n",
              "      border-radius: 50%;\n",
              "      cursor: pointer;\n",
              "      display: none;\n",
              "      fill: #1967D2;\n",
              "      height: 32px;\n",
              "      padding: 0 0 0 0;\n",
              "      width: 32px;\n",
              "    }\n",
              "\n",
              "    .colab-df-convert:hover {\n",
              "      background-color: #E2EBFA;\n",
              "      box-shadow: 0px 1px 2px rgba(60, 64, 67, 0.3), 0px 1px 3px 1px rgba(60, 64, 67, 0.15);\n",
              "      fill: #174EA6;\n",
              "    }\n",
              "\n",
              "    [theme=dark] .colab-df-convert {\n",
              "      background-color: #3B4455;\n",
              "      fill: #D2E3FC;\n",
              "    }\n",
              "\n",
              "    [theme=dark] .colab-df-convert:hover {\n",
              "      background-color: #434B5C;\n",
              "      box-shadow: 0px 1px 3px 1px rgba(0, 0, 0, 0.15);\n",
              "      filter: drop-shadow(0px 1px 2px rgba(0, 0, 0, 0.3));\n",
              "      fill: #FFFFFF;\n",
              "    }\n",
              "  </style>\n",
              "\n",
              "      <script>\n",
              "        const buttonEl =\n",
              "          document.querySelector('#df-71399494-b4a1-442f-8041-eb48cd10a73a button.colab-df-convert');\n",
              "        buttonEl.style.display =\n",
              "          google.colab.kernel.accessAllowed ? 'block' : 'none';\n",
              "\n",
              "        async function convertToInteractive(key) {\n",
              "          const element = document.querySelector('#df-71399494-b4a1-442f-8041-eb48cd10a73a');\n",
              "          const dataTable =\n",
              "            await google.colab.kernel.invokeFunction('convertToInteractive',\n",
              "                                                     [key], {});\n",
              "          if (!dataTable) return;\n",
              "\n",
              "          const docLinkHtml = 'Like what you see? Visit the ' +\n",
              "            '<a target=\"_blank\" href=https://colab.research.google.com/notebooks/data_table.ipynb>data table notebook</a>'\n",
              "            + ' to learn more about interactive tables.';\n",
              "          element.innerHTML = '';\n",
              "          dataTable['output_type'] = 'display_data';\n",
              "          await google.colab.output.renderOutput(dataTable, element);\n",
              "          const docLink = document.createElement('div');\n",
              "          docLink.innerHTML = docLinkHtml;\n",
              "          element.appendChild(docLink);\n",
              "        }\n",
              "      </script>\n",
              "    </div>\n",
              "  </div>\n",
              "  "
            ],
            "text/plain": [
              "      customerID  gender SeniorCitizen Partner Dependents tenure PhoneService  \\\n",
              "0     7590-VHVEG  Female             0     Yes         No      1           No   \n",
              "1     5575-GNVDE    Male             0      No         No     34          Yes   \n",
              "2     3668-QPYBK    Male             0      No         No      2          Yes   \n",
              "3     7795-CFOCW    Male             0      No         No     45           No   \n",
              "4     9237-HQITU  Female             0      No         No      2          Yes   \n",
              "...          ...     ...           ...     ...        ...    ...          ...   \n",
              "7038  6840-RESVB    Male             0     Yes        Yes     24          Yes   \n",
              "7039  2234-XADUH  Female             0     Yes        Yes     72          Yes   \n",
              "7040  4801-JZAZL  Female             0     Yes        Yes     11           No   \n",
              "7041  8361-LTMKD    Male             1     Yes         No      4          Yes   \n",
              "7042  3186-AJIEK    Male             0      No         No     66          Yes   \n",
              "\n",
              "         MultipleLines InternetService OnlineSecurity  ... DeviceProtection  \\\n",
              "0     No phone service             DSL             No  ...               No   \n",
              "1                   No             DSL            Yes  ...              Yes   \n",
              "2                   No             DSL            Yes  ...               No   \n",
              "3     No phone service             DSL            Yes  ...              Yes   \n",
              "4                   No     Fiber optic             No  ...               No   \n",
              "...                ...             ...            ...  ...              ...   \n",
              "7038               Yes             DSL            Yes  ...              Yes   \n",
              "7039               Yes     Fiber optic             No  ...              Yes   \n",
              "7040  No phone service             DSL            Yes  ...               No   \n",
              "7041               Yes     Fiber optic             No  ...               No   \n",
              "7042                No     Fiber optic            Yes  ...              Yes   \n",
              "\n",
              "     TechSupport StreamingTV StreamingMovies        Contract PaperlessBilling  \\\n",
              "0             No          No              No  Month-to-month              Yes   \n",
              "1             No          No              No        One year               No   \n",
              "2             No          No              No  Month-to-month              Yes   \n",
              "3            Yes          No              No        One year               No   \n",
              "4             No          No              No  Month-to-month              Yes   \n",
              "...          ...         ...             ...             ...              ...   \n",
              "7038         Yes         Yes             Yes        One year              Yes   \n",
              "7039          No         Yes             Yes        One year              Yes   \n",
              "7040          No          No              No  Month-to-month              Yes   \n",
              "7041          No          No              No  Month-to-month              Yes   \n",
              "7042         Yes         Yes             Yes        Two year              Yes   \n",
              "\n",
              "                  PaymentMethod MonthlyCharges TotalCharges Churn  \n",
              "0              Electronic check          29.85        29.85    No  \n",
              "1                  Mailed check          56.95       1889.5    No  \n",
              "2                  Mailed check          53.85       108.15   Yes  \n",
              "3     Bank transfer (automatic)           42.3      1840.75    No  \n",
              "4              Electronic check           70.7       151.65   Yes  \n",
              "...                         ...            ...          ...   ...  \n",
              "7038               Mailed check           84.8       1990.5    No  \n",
              "7039    Credit card (automatic)          103.2       7362.9    No  \n",
              "7040           Electronic check           29.6       346.45    No  \n",
              "7041               Mailed check           74.4        306.6   Yes  \n",
              "7042  Bank transfer (automatic)         105.65       6844.5    No  \n",
              "\n",
              "[7043 rows x 21 columns]"
            ]
          },
          "execution_count": 10,
          "metadata": {},
          "output_type": "execute_result"
        }
      ],
      "source": [
        "TCC.fillna(method='ffill',axis=1)"
      ]
    },
    {
      "cell_type": "code",
      "execution_count": null,
      "metadata": {
        "colab": {
          "base_uri": "https://localhost:8080/"
        },
        "id": "ikgEgugHyGem",
        "outputId": "b9032f76-7ffc-45ce-f6fe-e53790674c35"
      },
      "outputs": [
        {
          "data": {
            "text/plain": [
              "customerID  gender  SeniorCitizen  Partner  Dependents  tenure  PhoneService  MultipleLines     InternetService  OnlineSecurity       OnlineBackup         DeviceProtection     TechSupport          StreamingTV          StreamingMovies      Contract        PaperlessBilling  PaymentMethod              MonthlyCharges  TotalCharges  Churn\n",
              "0002-ORFBO  Female  0              Yes      Yes         9       Yes           No                DSL              No                   Yes                  No                   Yes                  Yes                  No                   One year        Yes               Mailed check               65.60           593.3         No       1\n",
              "6616-AALSR  Female  0              Yes      Yes         65      Yes           Yes               Fiber optic      Yes                  No                   Yes                  No                   Yes                  Yes                  Two year        Yes               Credit card (automatic)    104.30          6725.3        No       1\n",
              "6625-UTXEW  Female  0              Yes      No          12      Yes           No                DSL              No                   Yes                  No                   No                   No                   No                   Month-to-month  Yes               Electronic check           51.25           612.1         No       1\n",
              "6625-IUTTT  Male    0              No       No          67      Yes           No                DSL              Yes                  No                   Yes                  No                   No                   Yes                  Two year        No                Bank transfer (automatic)  65.55           4361.55       No       1\n",
              "6625-FLENO  Male    0              Yes      No          58      Yes           No                No               No internet service  No internet service  No internet service  No internet service  No internet service  No internet service  Two year        No                Mailed check               20.75           1185.95       No       1\n",
              "                                                                                                                                                                                                                                                                                                                                                  ..\n",
              "3352-RICWQ  Female  0              Yes      Yes         9       Yes           No                No               No internet service  No internet service  No internet service  No internet service  No internet service  No internet service  Two year        No                Mailed check               19.75           210.65        No       1\n",
              "3352-ALMCK  Male    0              No       No          40      Yes           Yes               Fiber optic      No                   Yes                  Yes                  No                   Yes                  Yes                  Month-to-month  Yes               Mailed check               102.65          4108.15       No       1\n",
              "3351-NQLDI  Female  0              Yes      Yes         67      Yes           Yes               Fiber optic      Yes                  No                   No                   Yes                  No                   Yes                  One year        Yes               Credit card (automatic)    94.35           6341.45       Yes      1\n",
              "3351-NGXYI  Female  1              No       No          16      Yes           Yes               DSL              Yes                  No                   No                   No                   No                   No                   Month-to-month  Yes               Electronic check           54.10           889           No       1\n",
              "9995-HOTOH  Male    0              Yes      Yes         63      No            No phone service  DSL              Yes                  Yes                  Yes                  No                   Yes                  Yes                  Two year        No                Electronic check           59.00           3707.6        No       1\n",
              "Length: 7043, dtype: int64"
            ]
          },
          "execution_count": 11,
          "metadata": {},
          "output_type": "execute_result"
        }
      ],
      "source": [
        "TCC.value_counts()"
      ]
    },
    {
      "cell_type": "markdown",
      "metadata": {
        "id": "YT646rZF0KY_"
      },
      "source": [
        "DISTPLOT"
      ]
    },
    {
      "cell_type": "code",
      "execution_count": null,
      "metadata": {
        "colab": {
          "base_uri": "https://localhost:8080/",
          "height": 386
        },
        "id": "Y9DjXUj0zzsw",
        "outputId": "737aceee-1cda-476b-dc7f-66d92f42b726"
      },
      "outputs": [
        {
          "data": {
            "text/plain": [
              "<seaborn.axisgrid.FacetGrid at 0x7f9cbff58f10>"
            ]
          },
          "execution_count": 11,
          "metadata": {},
          "output_type": "execute_result"
        },
        {
          "data": {
            "image/png": "[encoded data removed]",
            "text/plain": [
              "<Figure size 360x360 with 1 Axes>"
            ]
          },
          "metadata": {},
          "output_type": "display_data"
        }
      ],
      "source": [
        "sns.displot(x=\"Dependents\",data=TCC,bins=20,kde=True)"
      ]
    },
    {
      "cell_type": "code",
      "execution_count": null,
      "metadata": {
        "colab": {
          "base_uri": "https://localhost:8080/",
          "height": 386
        },
        "id": "KjlsMBMa0RCp",
        "outputId": "7d9d97a6-4670-4a70-a86c-0bf7600d6040"
      },
      "outputs": [
        {
          "data": {
            "text/plain": [
              "<seaborn.axisgrid.FacetGrid at 0x7f9cf20bfee0>"
            ]
          },
          "execution_count": 12,
          "metadata": {},
          "output_type": "execute_result"
        },
        {
          "data": {
            "image/png": "[encoded data removed]",
            "text/plain": [
              "<Figure size 360x360 with 1 Axes>"
            ]
          },
          "metadata": {},
          "output_type": "display_data"
        }
      ],
      "source": [
        "sns.displot(x=\"PhoneService\",data=TCC,bins=20,kde=True)"
      ]
    },
    {
      "cell_type": "code",
      "execution_count": null,
      "metadata": {
        "colab": {
          "base_uri": "https://localhost:8080/",
          "height": 386
        },
        "id": "Mx0Xf4bJ0Q9Y",
        "outputId": "1bc13575-821a-4e0c-cd17-460efa4600ae"
      },
      "outputs": [
        {
          "data": {
            "text/plain": [
              "<seaborn.axisgrid.FacetGrid at 0x7f9cbff58df0>"
            ]
          },
          "execution_count": 13,
          "metadata": {},
          "output_type": "execute_result"
        },
        {
          "data": {
            "image/png": "[encoded data removed]",
            "text/plain": [
              "<Figure size 360x360 with 1 Axes>"
            ]
          },
          "metadata": {},
          "output_type": "display_data"
        }
      ],
      "source": [
        "sns.displot(x=\"MultipleLines\",data=TCC,bins=20,kde=True)"
      ]
    },
    {
      "cell_type": "code",
      "execution_count": null,
      "metadata": {
        "colab": {
          "base_uri": "https://localhost:8080/",
          "height": 386
        },
        "id": "-FYU8u2e0Q4_",
        "outputId": "343140f6-67eb-4a15-a5a5-3dc01ece2842"
      },
      "outputs": [
        {
          "data": {
            "text/plain": [
              "<seaborn.axisgrid.FacetGrid at 0x7f9cbfbff220>"
            ]
          },
          "execution_count": 14,
          "metadata": {},
          "output_type": "execute_result"
        },
        {
          "data": {
            "image/png": "[encoded data removed]",
            "text/plain": [
              "<Figure size 360x360 with 1 Axes>"
            ]
          },
          "metadata": {},
          "output_type": "display_data"
        }
      ],
      "source": [
        "sns.displot(x=\"InternetService\",data=TCC,bins=20,kde=True)"
      ]
    },
    {
      "cell_type": "code",
      "execution_count": null,
      "metadata": {
        "colab": {
          "base_uri": "https://localhost:8080/",
          "height": 386
        },
        "id": "XnG4DKQG0zsf",
        "outputId": "6a1d95a4-4baf-4af4-dcd8-5767332027dc"
      },
      "outputs": [
        {
          "data": {
            "text/plain": [
              "<seaborn.axisgrid.FacetGrid at 0x7f9cbf71e190>"
            ]
          },
          "execution_count": 15,
          "metadata": {},
          "output_type": "execute_result"
        },
        {
          "data": {
            "image/png": "[encoded data removed]",
            "text/plain": [
              "<Figure size 360x360 with 1 Axes>"
            ]
          },
          "metadata": {},
          "output_type": "display_data"
        }
      ],
      "source": [
        "sns.displot(x=\"OnlineSecurity\",data=TCC,bins=20,kde=True)"
      ]
    },
    {
      "cell_type": "code",
      "execution_count": null,
      "metadata": {
        "colab": {
          "base_uri": "https://localhost:8080/",
          "height": 386
        },
        "id": "0whM7XKZ0zof",
        "outputId": "f74de87c-2ef6-4536-b87f-4ed7fdf406cf"
      },
      "outputs": [
        {
          "data": {
            "text/plain": [
              "<seaborn.axisgrid.FacetGrid at 0x7f9cbfeb3160>"
            ]
          },
          "execution_count": 16,
          "metadata": {},
          "output_type": "execute_result"
        },
        {
          "data": {
            "image/png": "[encoded data removed]",
            "text/plain": [
              "<Figure size 360x360 with 1 Axes>"
            ]
          },
          "metadata": {},
          "output_type": "display_data"
        }
      ],
      "source": [
        "sns.displot(x=\"OnlineBackup\",data=TCC,bins=20,kde=True)"
      ]
    },
    {
      "cell_type": "code",
      "execution_count": null,
      "metadata": {
        "colab": {
          "background_save": true,
          "base_uri": "https://localhost:8080/",
          "height": 386
        },
        "id": "b-SbbF4j0zla",
        "outputId": "47dd28a9-848e-496f-b901-9b87aa62ed7f"
      },
      "outputs": [
        {
          "data": {
            "text/plain": [
              "<seaborn.axisgrid.FacetGrid at 0x7f9cb5339550>"
            ]
          },
          "execution_count": 80,
          "metadata": {},
          "output_type": "execute_result"
        },
        {
          "data": {
            "image/png": "[encoded data removed]",
            "text/plain": [
              "<Figure size 360x360 with 1 Axes>"
            ]
          },
          "metadata": {},
          "output_type": "display_data"
        }
      ],
      "source": [
        "sns.displot(x=\"DeviceProtection\",data=TCC,bins=20,kde=True)"
      ]
    },
    {
      "cell_type": "code",
      "execution_count": null,
      "metadata": {
        "colab": {
          "base_uri": "https://localhost:8080/",
          "height": 386
        },
        "id": "a-bZ3TKQ0ziw",
        "outputId": "5d7a06fb-5cc4-45dd-e3b1-4fa856140967"
      },
      "outputs": [
        {
          "data": {
            "text/plain": [
              "<seaborn.axisgrid.FacetGrid at 0x7f9cc05b08b0>"
            ]
          },
          "execution_count": 18,
          "metadata": {},
          "output_type": "execute_result"
        },
        {
          "data": {
            "image/png": "[encoded data removed]",
            "text/plain": [
              "<Figure size 360x360 with 1 Axes>"
            ]
          },
          "metadata": {},
          "output_type": "display_data"
        }
      ],
      "source": [
        "sns.displot(x=\"TechSupport\",data=TCC,bins=20,kde=True)"
      ]
    },
    {
      "cell_type": "code",
      "execution_count": null,
      "metadata": {
        "colab": {
          "base_uri": "https://localhost:8080/",
          "height": 386
        },
        "id": "MWQtLOfB0Q2P",
        "outputId": "f49e7350-3357-4fdf-e89c-e855211fd05d"
      },
      "outputs": [
        {
          "data": {
            "text/plain": [
              "<seaborn.axisgrid.FacetGrid at 0x7f9cbf95d310>"
            ]
          },
          "execution_count": 19,
          "metadata": {},
          "output_type": "execute_result"
        },
        {
          "data": {
            "image/png": "[encoded data removed]",
            "text/plain": [
              "<Figure size 360x360 with 1 Axes>"
            ]
          },
          "metadata": {},
          "output_type": "display_data"
        }
      ],
      "source": [
        "sns.displot(x=\"StreamingTV\",data=TCC,bins=20,kde=True)"
      ]
    },
    {
      "cell_type": "code",
      "execution_count": null,
      "metadata": {
        "colab": {
          "base_uri": "https://localhost:8080/",
          "height": 386
        },
        "id": "EnqOEUs71GZ9",
        "outputId": "ca8f80d6-a940-460a-9db7-e0f0fbab7b1f"
      },
      "outputs": [
        {
          "data": {
            "text/plain": [
              "<seaborn.axisgrid.FacetGrid at 0x7f9cbf77bca0>"
            ]
          },
          "execution_count": 20,
          "metadata": {},
          "output_type": "execute_result"
        },
        {
          "data": {
            "image/png": "[encoded data removed]",
            "text/plain": [
              "<Figure size 360x360 with 1 Axes>"
            ]
          },
          "metadata": {},
          "output_type": "display_data"
        }
      ],
      "source": [
        "sns.displot(x=\"StreamingMovies\",data=TCC,bins=20,kde=True)"
      ]
    },
    {
      "cell_type": "code",
      "execution_count": null,
      "metadata": {
        "colab": {
          "base_uri": "https://localhost:8080/",
          "height": 386
        },
        "id": "vi-ZnLtG1GXU",
        "outputId": "b041c105-1a7d-4c26-9901-c4b4833dcc89"
      },
      "outputs": [
        {
          "data": {
            "text/plain": [
              "<seaborn.axisgrid.FacetGrid at 0x7f9cbf781130>"
            ]
          },
          "execution_count": 21,
          "metadata": {},
          "output_type": "execute_result"
        },
        {
          "data": {
            "image/png": "[encoded data removed]",
            "text/plain": [
              "<Figure size 360x360 with 1 Axes>"
            ]
          },
          "metadata": {},
          "output_type": "display_data"
        }
      ],
      "source": [
        "sns.displot(x=\"Contract\",data=TCC,bins=20,kde=True)"
      ]
    },
    {
      "cell_type": "code",
      "execution_count": null,
      "metadata": {
        "colab": {
          "base_uri": "https://localhost:8080/",
          "height": 386
        },
        "id": "zH7SPUF51GUN",
        "outputId": "e2950f16-98d3-4aec-c2b8-1e150070ac7a"
      },
      "outputs": [
        {
          "data": {
            "text/plain": [
              "<seaborn.axisgrid.FacetGrid at 0x7f9cbfadd1c0>"
            ]
          },
          "execution_count": 22,
          "metadata": {},
          "output_type": "execute_result"
        },
        {
          "data": {
            "image/png": "[encoded data removed]",
            "text/plain": [
              "<Figure size 360x360 with 1 Axes>"
            ]
          },
          "metadata": {},
          "output_type": "display_data"
        }
      ],
      "source": [
        "sns.displot(x=\"Churn\",data=TCC,bins=20,kde=True)"
      ]
    },
    {
      "cell_type": "markdown",
      "metadata": {
        "id": "5Mep6j_40OTx"
      },
      "source": [
        "[ENCODING THE DATA(converting categorical values into numerical)"
      ]
    },
    {
      "cell_type": "code",
      "execution_count": null,
      "metadata": {
        "id": "oe80fCm35DLA"
      },
      "outputs": [],
      "source": [
        "encoder=LabelEncoder()"
      ]
    },
    {
      "cell_type": "code",
      "execution_count": null,
      "metadata": {
        "id": "JQLWK5vS6Mb_"
      },
      "outputs": [],
      "source": [
        "TCC['customerID']=encoder.fit_transform(TCC['customerID'])\n",
        "TCC['gender']=encoder.fit_transform(TCC['gender'])\n",
        "TCC['Partner']=encoder.fit_transform(TCC['Partner'])\n",
        "TCC['Dependents']=encoder.fit_transform(TCC['Dependents'])\n",
        "TCC['PhoneService']=encoder.fit_transform(TCC['PhoneService'])\n",
        "TCC['MultipleLines']=encoder.fit_transform(TCC['MultipleLines'])\n",
        "TCC['InternetService']=encoder.fit_transform(TCC['InternetService'])\n",
        "TCC['OnlineSecurity']=encoder.fit_transform(TCC['OnlineSecurity'])\n",
        "TCC['OnlineBackup']=encoder.fit_transform(TCC['OnlineBackup'])\n",
        "TCC['DeviceProtection']=encoder.fit_transform(TCC['DeviceProtection'])\n",
        "TCC['TechSupport']=encoder.fit_transform(TCC['TechSupport'])\n",
        "TCC['StreamingTV']=encoder.fit_transform(TCC['StreamingTV'])\n",
        "TCC['StreamingMovies']=encoder.fit_transform(TCC['StreamingMovies'])\n",
        "TCC['Contract']=encoder.fit_transform(TCC['Contract'])\n",
        "TCC['PaperlessBilling']=encoder.fit_transform(TCC['PaperlessBilling'])\n",
        "TCC['PaymentMethod']=encoder.fit_transform(TCC['PaymentMethod'])\n",
        "TCC['MonthlyCharges']=encoder.fit_transform(TCC['MonthlyCharges'])\n",
        "TCC['TotalCharges']=encoder.fit_transform(TCC['TotalCharges'])"
      ]
    },
    {
      "cell_type": "markdown",
      "metadata": {
        "id": "sxB0bEXE0Rf3"
      },
      "source": [
        "REPLACING THE COLUMN"
      ]
    },
    {
      "cell_type": "code",
      "execution_count": null,
      "metadata": {
        "id": "urxXDQgz8xzu"
      },
      "outputs": [],
      "source": [
        "TCC.replace({'Churn':{'Yes':1,'No':0}},inplace=True)"
      ]
    },
    {
      "cell_type": "code",
      "execution_count": null,
      "metadata": {
        "colab": {
          "base_uri": "https://localhost:8080/"
        },
        "id": "3119m0dH6Pct",
        "outputId": "e4a2b358-4dbf-4df2-8f08-9151e3ce90cb"
      },
      "outputs": [
        {
          "name": "stdout",
          "output_type": "stream",
          "text": [
            "      customerID  gender  SeniorCitizen  Partner  Dependents  tenure  \\\n",
            "0           5375       0              0        1           0       1   \n",
            "1           3962       1              0        0           0      34   \n",
            "2           2564       1              0        0           0       2   \n",
            "3           5535       1              0        0           0      45   \n",
            "4           6511       0              0        0           0       2   \n",
            "...          ...     ...            ...      ...         ...     ...   \n",
            "7038        4853       1              0        1           1      24   \n",
            "7039        1525       0              0        1           1      72   \n",
            "7040        3367       0              0        1           1      11   \n",
            "7041        5934       1              1        1           0       4   \n",
            "7042        2226       1              0        0           0      66   \n",
            "\n",
            "      PhoneService  MultipleLines  InternetService  OnlineSecurity  ...  \\\n",
            "0                0              1                0               0  ...   \n",
            "1                1              0                0               2  ...   \n",
            "2                1              0                0               2  ...   \n",
            "3                0              1                0               2  ...   \n",
            "4                1              0                1               0  ...   \n",
            "...            ...            ...              ...             ...  ...   \n",
            "7038             1              2                0               2  ...   \n",
            "7039             1              2                1               0  ...   \n",
            "7040             0              1                0               2  ...   \n",
            "7041             1              2                1               0  ...   \n",
            "7042             1              0                1               2  ...   \n",
            "\n",
            "      DeviceProtection  TechSupport  StreamingTV  StreamingMovies  Contract  \\\n",
            "0                    0            0            0                0         0   \n",
            "1                    2            0            0                0         1   \n",
            "2                    0            0            0                0         0   \n",
            "3                    2            2            0                0         1   \n",
            "4                    0            0            0                0         0   \n",
            "...                ...          ...          ...              ...       ...   \n",
            "7038                 2            2            2                2         1   \n",
            "7039                 2            0            2                2         1   \n",
            "7040                 0            0            0                0         0   \n",
            "7041                 0            0            0                0         0   \n",
            "7042                 2            2            2                2         2   \n",
            "\n",
            "      PaperlessBilling  PaymentMethod  MonthlyCharges  TotalCharges  Churn  \n",
            "0                    1              2             142          2505      0  \n",
            "1                    0              3             498          1466      0  \n",
            "2                    1              3             436           157      1  \n",
            "3                    0              0             266          1400      0  \n",
            "4                    1              2             729           925      1  \n",
            "...                ...            ...             ...           ...    ...  \n",
            "7038                 1              3             991          1597      0  \n",
            "7039                 1              1            1340          5698      0  \n",
            "7040                 1              2             137          2994      0  \n",
            "7041                 1              3             795          2660      1  \n",
            "7042                 1              0            1388          5407      0  \n",
            "\n",
            "[7043 rows x 21 columns]\n"
          ]
        }
      ],
      "source": [
        "print(TCC)"
      ]
    },
    {
      "cell_type": "markdown",
      "metadata": {
        "id": "khbELFGQ0W2X"
      },
      "source": [
        "CHECKING THE OUTLIERS"
      ]
    },
    {
      "cell_type": "code",
      "execution_count": null,
      "metadata": {
        "colab": {
          "background_save": true,
          "base_uri": "https://localhost:8080/",
          "height": 485
        },
        "id": "SO8-y1PD1GOW",
        "outputId": "15f2c5e1-1ac0-4d1c-c25b-6728ff55b7e4"
      },
      "outputs": [
        {
          "data": {
            "image/png": "[encoded data removed]",
            "text/plain": [
              "<Figure size 576x576 with 1 Axes>"
            ]
          },
          "metadata": {},
          "output_type": "display_data"
        }
      ],
      "source": [
        "plt.figure(figsize=(8,8))\n",
        "sns.boxplot(y='Dependents',data=TCC)\n",
        "plt.title('Dependents')\n",
        "plt.show()"
      ]
    },
    {
      "cell_type": "code",
      "execution_count": null,
      "metadata": {
        "colab": {
          "background_save": true,
          "base_uri": "https://localhost:8080/",
          "height": 485
        },
        "id": "QnbMfCAMzmjh",
        "outputId": "6c4e5896-14e3-4adf-9239-c2f7252814ad"
      },
      "outputs": [
        {
          "data": {
            "image/png": "[encoded data removed]",
            "text/plain": [
              "<Figure size 576x576 with 1 Axes>"
            ]
          },
          "metadata": {},
          "output_type": "display_data"
        }
      ],
      "source": [
        "plt.figure(figsize=(8,8))\n",
        "sns.boxplot(y='PhoneService',data=TCC)\n",
        "plt.title('PhoneService')\n",
        "plt.show()"
      ]
    },
    {
      "cell_type": "code",
      "execution_count": null,
      "metadata": {
        "colab": {
          "background_save": true,
          "base_uri": "https://localhost:8080/",
          "height": 485
        },
        "id": "fBpC5OSp2aW4",
        "outputId": "319effe7-a430-4dbb-c7b9-a428dba4efcb"
      },
      "outputs": [
        {
          "data": {
            "image/png": "[encoded data removed]",
            "text/plain": [
              "<Figure size 576x576 with 1 Axes>"
            ]
          },
          "metadata": {},
          "output_type": "display_data"
        }
      ],
      "source": [
        "plt.figure(figsize=(8,8))\n",
        "sns.boxplot(y='MultipleLines',data=TCC)\n",
        "plt.title('MultipleLines')\n",
        "plt.show()"
      ]
    },
    {
      "cell_type": "code",
      "execution_count": null,
      "metadata": {
        "colab": {
          "base_uri": "https://localhost:8080/",
          "height": 485
        },
        "id": "Ub2xJHaw2aQI",
        "outputId": "1b985235-1dd8-4044-b59a-e6f0e70898ca"
      },
      "outputs": [
        {
          "data": {
            "image/png": "[encoded data removed]",
            "text/plain": [
              "<Figure size 576x576 with 1 Axes>"
            ]
          },
          "metadata": {},
          "output_type": "display_data"
        }
      ],
      "source": [
        "plt.figure(figsize=(8,8))\n",
        "sns.boxplot(y='InternetService',data=TCC)\n",
        "plt.title('InternetService')\n",
        "plt.show()"
      ]
    },
    {
      "cell_type": "code",
      "execution_count": null,
      "metadata": {
        "colab": {
          "base_uri": "https://localhost:8080/",
          "height": 485
        },
        "id": "E1PMgHej2aJB",
        "outputId": "0adb893a-2ccd-480c-a7c8-36b003bece08"
      },
      "outputs": [
        {
          "data": {
            "image/png": "[encoded data removed]",
            "text/plain": [
              "<Figure size 576x576 with 1 Axes>"
            ]
          },
          "metadata": {},
          "output_type": "display_data"
        }
      ],
      "source": [
        "plt.figure(figsize=(8,8))\n",
        "sns.boxplot(y='OnlineSecurity',data=TCC)\n",
        "plt.title('OnlineSecurity')\n",
        "plt.show()"
      ]
    },
    {
      "cell_type": "code",
      "execution_count": null,
      "metadata": {
        "colab": {
          "base_uri": "https://localhost:8080/",
          "height": 485
        },
        "id": "bQCqyS-a2aBY",
        "outputId": "f892db60-4806-4d34-b166-c750e570aaa2"
      },
      "outputs": [
        {
          "data": {
            "image/png": "[encoded data removed]",
            "text/plain": [
              "<Figure size 576x576 with 1 Axes>"
            ]
          },
          "metadata": {},
          "output_type": "display_data"
        }
      ],
      "source": [
        "plt.figure(figsize=(8,8))\n",
        "sns.boxplot(y='OnlineBackup',data=TCC)\n",
        "plt.title('OnlineBackup')\n",
        "plt.show()"
      ]
    },
    {
      "cell_type": "code",
      "execution_count": null,
      "metadata": {
        "colab": {
          "background_save": true,
          "base_uri": "https://localhost:8080/",
          "height": 485
        },
        "id": "OdpYEjy12Z6I",
        "outputId": "77914a7d-4e93-40e0-ae20-2770c12a7187"
      },
      "outputs": [
        {
          "data": {
            "image/png": "[encoded data removed]",
            "text/plain": [
              "<Figure size 576x576 with 1 Axes>"
            ]
          },
          "metadata": {},
          "output_type": "display_data"
        }
      ],
      "source": [
        "plt.figure(figsize=(8,8))\n",
        "sns.boxplot(y='DeviceProtection',data=TCC)\n",
        "plt.title('DeviceProtection')\n",
        "plt.show()"
      ]
    },
    {
      "cell_type": "code",
      "execution_count": null,
      "metadata": {
        "colab": {
          "base_uri": "https://localhost:8080/",
          "height": 485
        },
        "id": "ubkLbT0y2Zyx",
        "outputId": "96c6cd20-5fd5-45a4-cbb0-b77bbe969e04"
      },
      "outputs": [
        {
          "data": {
            "image/png": "[encoded data removed]",
            "text/plain": [
              "<Figure size 576x576 with 1 Axes>"
            ]
          },
          "metadata": {},
          "output_type": "display_data"
        }
      ],
      "source": [
        "plt.figure(figsize=(8,8))\n",
        "sns.boxplot(y='TechSupport',data=TCC)\n",
        "plt.title('TechSupport')\n",
        "plt.show()"
      ]
    },
    {
      "cell_type": "code",
      "execution_count": null,
      "metadata": {
        "colab": {
          "background_save": true,
          "base_uri": "https://localhost:8080/",
          "height": 485
        },
        "id": "X0s7KeQ92ZrR",
        "outputId": "357f52c7-bdc7-4357-a008-3455383b6bfa"
      },
      "outputs": [
        {
          "data": {
            "image/png": "[encoded data removed]",
            "text/plain": [
              "<Figure size 576x576 with 1 Axes>"
            ]
          },
          "metadata": {},
          "output_type": "display_data"
        }
      ],
      "source": [
        "plt.figure(figsize=(8,8))\n",
        "sns.boxplot(y='StreamingTV',data=TCC)\n",
        "plt.title('StreamingTV')\n",
        "plt.show()"
      ]
    },
    {
      "cell_type": "code",
      "execution_count": null,
      "metadata": {
        "colab": {
          "base_uri": "https://localhost:8080/",
          "height": 485
        },
        "id": "Tfkx8yXf2ZkY",
        "outputId": "4006b24d-7cca-401a-f310-261dd8aadfe2"
      },
      "outputs": [
        {
          "data": {
            "image/png": "[encoded data removed]",
            "text/plain": [
              "<Figure size 576x576 with 1 Axes>"
            ]
          },
          "metadata": {},
          "output_type": "display_data"
        }
      ],
      "source": [
        "plt.figure(figsize=(8,8))\n",
        "sns.boxplot(y='StreamingMovies',data=TCC)\n",
        "plt.title('StreamingMovies')\n",
        "plt.show()"
      ]
    },
    {
      "cell_type": "code",
      "execution_count": null,
      "metadata": {
        "colab": {
          "background_save": true,
          "base_uri": "https://localhost:8080/",
          "height": 485
        },
        "id": "8wId9d3_2ZdC",
        "outputId": "325fa53a-2cc8-4c21-f91c-39979ce66991"
      },
      "outputs": [
        {
          "data": {
            "image/png": "[encoded data removed]",
            "text/plain": [
              "<Figure size 576x576 with 1 Axes>"
            ]
          },
          "metadata": {},
          "output_type": "display_data"
        }
      ],
      "source": [
        "plt.figure(figsize=(8,8))\n",
        "sns.boxplot(y='Contract',data=TCC)\n",
        "plt.title('Contract')\n",
        "plt.show()"
      ]
    },
    {
      "cell_type": "code",
      "execution_count": null,
      "metadata": {
        "colab": {
          "base_uri": "https://localhost:8080/",
          "height": 485
        },
        "id": "aiXdYqCG2ZTZ",
        "outputId": "10497313-4d1f-4cd7-accc-0d5c9bb5f6f8"
      },
      "outputs": [
        {
          "data": {
            "image/png": "[encoded data removed]",
            "text/plain": [
              "<Figure size 576x576 with 1 Axes>"
            ]
          },
          "metadata": {},
          "output_type": "display_data"
        }
      ],
      "source": [
        "plt.figure(figsize=(8,8))\n",
        "sns.boxplot(y='Churn',data=TCC)\n",
        "plt.title('Churn')\n",
        "plt.show()"
      ]
    },
    {
      "cell_type": "code",
      "execution_count": null,
      "metadata": {
        "colab": {
          "base_uri": "https://localhost:8080/",
          "height": 609
        },
        "id": "5POiw-EB3cbI",
        "outputId": "686ef415-7999-4bc3-9feb-cfaad57ed2cc"
      },
      "outputs": [
        {
          "data": {
            "text/plain": [
              "<Axes: ylabel='count'>"
            ]
          },
          "execution_count": 39,
          "metadata": {},
          "output_type": "execute_result"
        },
        {
          "data": {
            "image/png": "[encoded data removed]",
            "text/plain": [
              "<Figure size 1800x720 with 1 Axes>"
            ]
          },
          "metadata": {},
          "output_type": "display_data"
        }
      ],
      "source": [
        "plt.figure(figsize=(25,10))\n",
        "sns.countplot(data=TCC)"
      ]
    },
    {
      "cell_type": "code",
      "execution_count": null,
      "metadata": {
        "colab": {
          "base_uri": "https://localhost:8080/"
        },
        "id": "0rc4cXY2JfxY",
        "outputId": "c080a17a-0ac2-44af-e072-ab52aef51479"
      },
      "outputs": [
        {
          "data": {
            "text/plain": [
              "Index([], dtype='object')"
            ]
          },
          "execution_count": 40,
          "metadata": {},
          "output_type": "execute_result"
        }
      ],
      "source": [
        "categorical_features = TCC.select_dtypes(include = \"object\").columns\n",
        "numerical_features = TCC.select_dtypes(include = \"int64\").columns\n",
        "TCCFLT=TCC.select_dtypes(include=\"float\").columns\n",
        "TCCFLT"
      ]
    },
    {
      "cell_type": "markdown",
      "metadata": {
        "id": "RlTg-Oa90esy"
      },
      "source": [
        "SPLITING THE DATA"
      ]
    },
    {
      "cell_type": "code",
      "execution_count": null,
      "metadata": {
        "colab": {
          "base_uri": "https://localhost:8080/"
        },
        "id": "_Xr04k58Ae_0",
        "outputId": "9bbe6e4a-00e9-4ada-e6a3-d71e739ecd00"
      },
      "outputs": [
        {
          "name": "stdout",
          "output_type": "stream",
          "text": [
            "      gender  SeniorCitizen  Partner  Dependents  tenure  PhoneService  \\\n",
            "0          0              0        1           0       1             0   \n",
            "1          1              0        0           0      34             1   \n",
            "2          1              0        0           0       2             1   \n",
            "3          1              0        0           0      45             0   \n",
            "4          0              0        0           0       2             1   \n",
            "...      ...            ...      ...         ...     ...           ...   \n",
            "7038       1              0        1           1      24             1   \n",
            "7039       0              0        1           1      72             1   \n",
            "7040       0              0        1           1      11             0   \n",
            "7041       1              1        1           0       4             1   \n",
            "7042       1              0        0           0      66             1   \n",
            "\n",
            "      MultipleLines  InternetService  OnlineSecurity  OnlineBackup  \\\n",
            "0                 1                0               0             2   \n",
            "1                 0                0               2             0   \n",
            "2                 0                0               2             2   \n",
            "3                 1                0               2             0   \n",
            "4                 0                1               0             0   \n",
            "...             ...              ...             ...           ...   \n",
            "7038              2                0               2             0   \n",
            "7039              2                1               0             2   \n",
            "7040              1                0               2             0   \n",
            "7041              2                1               0             0   \n",
            "7042              0                1               2             0   \n",
            "\n",
            "      DeviceProtection  TechSupport  StreamingTV  StreamingMovies  Contract  \\\n",
            "0                    0            0            0                0         0   \n",
            "1                    2            0            0                0         1   \n",
            "2                    0            0            0                0         0   \n",
            "3                    2            2            0                0         1   \n",
            "4                    0            0            0                0         0   \n",
            "...                ...          ...          ...              ...       ...   \n",
            "7038                 2            2            2                2         1   \n",
            "7039                 2            0            2                2         1   \n",
            "7040                 0            0            0                0         0   \n",
            "7041                 0            0            0                0         0   \n",
            "7042                 2            2            2                2         2   \n",
            "\n",
            "      PaperlessBilling  PaymentMethod  MonthlyCharges  TotalCharges  \n",
            "0                    1              2             142          2505  \n",
            "1                    0              3             498          1466  \n",
            "2                    1              3             436           157  \n",
            "3                    0              0             266          1400  \n",
            "4                    1              2             729           925  \n",
            "...                ...            ...             ...           ...  \n",
            "7038                 1              3             991          1597  \n",
            "7039                 1              1            1340          5698  \n",
            "7040                 1              2             137          2994  \n",
            "7041                 1              3             795          2660  \n",
            "7042                 1              0            1388          5407  \n",
            "\n",
            "[7043 rows x 19 columns]\n"
          ]
        }
      ],
      "source": [
        "X=TCC.drop(['customerID','Churn'],axis=1)\n",
        "print(X)"
      ]
    },
    {
      "cell_type": "code",
      "execution_count": null,
      "metadata": {
        "colab": {
          "base_uri": "https://localhost:8080/"
        },
        "id": "xFg27y83BLy5",
        "outputId": "eae9f4aa-0c69-487d-ba5f-58e744f011af"
      },
      "outputs": [
        {
          "name": "stdout",
          "output_type": "stream",
          "text": [
            "0       0\n",
            "1       0\n",
            "2       1\n",
            "3       0\n",
            "4       1\n",
            "       ..\n",
            "7038    0\n",
            "7039    0\n",
            "7040    0\n",
            "7041    1\n",
            "7042    0\n",
            "Name: Churn, Length: 7043, dtype: int64\n"
          ]
        }
      ],
      "source": [
        "Y=TCC['Churn']\n",
        "print(Y)"
      ]
    },
    {
      "cell_type": "markdown",
      "metadata": {
        "id": "p6iAqXep0jaf"
      },
      "source": [
        "STANDARDIZING THE DATA"
      ]
    },
    {
      "cell_type": "code",
      "execution_count": null,
      "metadata": {
        "id": "VcA-eCxyEQJA"
      },
      "outputs": [],
      "source": [
        "Scaler=StandardScaler()"
      ]
    },
    {
      "cell_type": "code",
      "execution_count": null,
      "metadata": {
        "colab": {
          "base_uri": "https://localhost:8080/",
          "height": 74
        },
        "id": "Sa_kaNKkEP4w",
        "outputId": "49f80d40-cb69-48b0-bdc9-493d1d1ba60e"
      },
      "outputs": [
        {
          "data": {
            "text/html": [
              "<style>#sk-container-id-1 {color: black;background-color: white;}#sk-container-id-1 pre{padding: 0;}#sk-container-id-1 div.sk-toggleable {background-color: white;}#sk-container-id-1 label.sk-toggleable__label {cursor: pointer;display: block;width: 100%;margin-bottom: 0;padding: 0.3em;box-sizing: border-box;text-align: center;}#sk-container-id-1 label.sk-toggleable__label-arrow:before {content: \"▸\";float: left;margin-right: 0.25em;color: #696969;}#sk-container-id-1 label.sk-toggleable__label-arrow:hover:before {color: black;}#sk-container-id-1 div.sk-estimator:hover label.sk-toggleable__label-arrow:before {color: black;}#sk-container-id-1 div.sk-toggleable__content {max-height: 0;max-width: 0;overflow: hidden;text-align: left;background-color: #f0f8ff;}#sk-container-id-1 div.sk-toggleable__content pre {margin: 0.2em;color: black;border-radius: 0.25em;background-color: #f0f8ff;}#sk-container-id-1 input.sk-toggleable__control:checked~div.sk-toggleable__content {max-height: 200px;max-width: 100%;overflow: auto;}#sk-container-id-1 input.sk-toggleable__control:checked~label.sk-toggleable__label-arrow:before {content: \"▾\";}#sk-container-id-1 div.sk-estimator input.sk-toggleable__control:checked~label.sk-toggleable__label {background-color: #d4ebff;}#sk-container-id-1 div.sk-label input.sk-toggleable__control:checked~label.sk-toggleable__label {background-color: #d4ebff;}#sk-container-id-1 input.sk-hidden--visually {border: 0;clip: rect(1px 1px 1px 1px);clip: rect(1px, 1px, 1px, 1px);height: 1px;margin: -1px;overflow: hidden;padding: 0;position: absolute;width: 1px;}#sk-container-id-1 div.sk-estimator {font-family: monospace;background-color: #f0f8ff;border: 1px dotted black;border-radius: 0.25em;box-sizing: border-box;margin-bottom: 0.5em;}#sk-container-id-1 div.sk-estimator:hover {background-color: #d4ebff;}#sk-container-id-1 div.sk-parallel-item::after {content: \"\";width: 100%;border-bottom: 1px solid gray;flex-grow: 1;}#sk-container-id-1 div.sk-label:hover label.sk-toggleable__label {background-color: #d4ebff;}#sk-container-id-1 div.sk-serial::before {content: \"\";position: absolute;border-left: 1px solid gray;box-sizing: border-box;top: 0;bottom: 0;left: 50%;z-index: 0;}#sk-container-id-1 div.sk-serial {display: flex;flex-direction: column;align-items: center;background-color: white;padding-right: 0.2em;padding-left: 0.2em;position: relative;}#sk-container-id-1 div.sk-item {position: relative;z-index: 1;}#sk-container-id-1 div.sk-parallel {display: flex;align-items: stretch;justify-content: center;background-color: white;position: relative;}#sk-container-id-1 div.sk-item::before, #sk-container-id-1 div.sk-parallel-item::before {content: \"\";position: absolute;border-left: 1px solid gray;box-sizing: border-box;top: 0;bottom: 0;left: 50%;z-index: -1;}#sk-container-id-1 div.sk-parallel-item {display: flex;flex-direction: column;z-index: 1;position: relative;background-color: white;}#sk-container-id-1 div.sk-parallel-item:first-child::after {align-self: flex-end;width: 50%;}#sk-container-id-1 div.sk-parallel-item:last-child::after {align-self: flex-start;width: 50%;}#sk-container-id-1 div.sk-parallel-item:only-child::after {width: 0;}#sk-container-id-1 div.sk-dashed-wrapped {border: 1px dashed gray;margin: 0 0.4em 0.5em 0.4em;box-sizing: border-box;padding-bottom: 0.4em;background-color: white;}#sk-container-id-1 div.sk-label label {font-family: monospace;font-weight: bold;display: inline-block;line-height: 1.2em;}#sk-container-id-1 div.sk-label-container {text-align: center;}#sk-container-id-1 div.sk-container {/* jupyter's `normalize.less` sets `[hidden] { display: none; }` but bootstrap.min.css set `[hidden] { display: none !important; }` so we also need the `!important` here to be able to override the default hidden behavior on the sphinx rendered scikit-learn.org. See: https://github.com/scikit-learn/scikit-learn/issues/21755 */display: inline-block !important;position: relative;}#sk-container-id-1 div.sk-text-repr-fallback {display: none;}</style><div id=\"sk-container-id-1\" class=\"sk-top-container\"><div class=\"sk-text-repr-fallback\"><pre>StandardScaler()</pre><b>In a Jupyter environment, please rerun this cell to show the HTML representation or trust the notebook. <br />On GitHub, the HTML representation is unable to render, please try loading this page with nbviewer.org.</b></div><div class=\"sk-container\" hidden><div class=\"sk-item\"><div class=\"sk-estimator sk-toggleable\"><input class=\"sk-toggleable__control sk-hidden--visually\" id=\"sk-estimator-id-1\" type=\"checkbox\" checked><label for=\"sk-estimator-id-1\" class=\"sk-toggleable__label sk-toggleable__label-arrow\">StandardScaler</label><div class=\"sk-toggleable__content\"><pre>StandardScaler()</pre></div></div></div></div></div>"
            ],
            "text/plain": [
              "StandardScaler()"
            ]
          },
          "execution_count": 45,
          "metadata": {},
          "output_type": "execute_result"
        }
      ],
      "source": [
        "Scaler.fit(X)"
      ]
    },
    {
      "cell_type": "code",
      "execution_count": null,
      "metadata": {
        "colab": {
          "background_save": true,
          "base_uri": "https://localhost:8080/"
        },
        "id": "eyPN-E2_EWv4",
        "outputId": "c6072406-9011-4512-f4d1-046aa7917f40"
      },
      "outputs": [
        {
          "name": "stdout",
          "output_type": "stream",
          "text": [
            "[[-1.00955867 -0.43991649  1.03453023 ...  0.39855772 -1.13176632\n",
            "  -0.39860759]\n",
            " [ 0.99053183 -0.43991649 -0.96662231 ...  1.33486261 -0.38773977\n",
            "  -0.94876238]\n",
            " [ 0.99053183 -0.43991649 -0.96662231 ...  1.33486261 -0.51731743\n",
            "  -1.64188328]\n",
            " ...\n",
            " [-1.00955867 -0.43991649  1.03453023 ...  0.39855772 -1.14221613\n",
            "  -0.13968008]\n",
            " [ 0.99053183  2.27315869  1.03453023 ...  1.33486261  0.23297901\n",
            "  -0.31653445]\n",
            " [ 0.99053183 -0.43991649 -0.96662231 ... -1.47405205  1.4723266\n",
            "   1.13801338]]\n"
          ]
        }
      ],
      "source": [
        "standardized_data=Scaler.transform(X)\n",
        "print(standardized_data)"
      ]
    },
    {
      "cell_type": "code",
      "execution_count": null,
      "metadata": {
        "id": "1p3lKR4aEZjz"
      },
      "outputs": [],
      "source": [
        "X=standardized_data"
      ]
    },
    {
      "cell_type": "markdown",
      "metadata": {
        "id": "REqh4Wk90nid"
      },
      "source": [
        "TRAINING THE DATA"
      ]
    },
    {
      "cell_type": "code",
      "execution_count": null,
      "metadata": {
        "colab": {
          "base_uri": "https://localhost:8080/"
        },
        "id": "fTBcEbs1CD89",
        "outputId": "708cdaad-55fe-4f9d-f362-a98f48faba4b"
      },
      "outputs": [
        {
          "name": "stdout",
          "output_type": "stream",
          "text": [
            "[[-1.00955867 -0.43991649 -0.96662231 ...  0.39855772  1.29885974\n",
            "  -1.27917296]\n",
            " [-1.00955867 -0.43991649 -0.96662231 ...  0.39855772 -0.21218295\n",
            "  -0.8105618 ]\n",
            " [ 0.99053183 -0.43991649  1.03453023 ... -1.47405205 -0.25398219\n",
            "   0.32787207]\n",
            " ...\n",
            " [-1.00955867 -0.43991649  1.03453023 ...  0.39855772  0.72830005\n",
            "  -1.18862775]\n",
            " [ 0.99053183 -0.43991649  1.03453023 ... -0.53774716 -0.52567728\n",
            "   0.00222703]\n",
            " [-1.00955867 -0.43991649 -0.96662231 ... -1.47405205 -1.39928149\n",
            "   0.93839033]]\n",
            "4169    1\n",
            "3571    0\n",
            "1352    0\n",
            "1278    0\n",
            "938     0\n",
            "       ..\n",
            "6443    0\n",
            "3606    0\n",
            "5704    0\n",
            "6637    0\n",
            "2575    0\n",
            "Name: Churn, Length: 5634, dtype: int64\n"
          ]
        }
      ],
      "source": [
        "X_train,X_test,Y_train,Y_test=train_test_split(X,Y,test_size=0.2,random_state=2)\n",
        "print(X_train)\n",
        "print(Y_train)"
      ]
    },
    {
      "cell_type": "markdown",
      "metadata": {
        "id": "e8qQYMyw0rPY"
      },
      "source": [
        "CORRELATION AND HEAT MAP"
      ]
    },
    {
      "cell_type": "code",
      "execution_count": null,
      "metadata": {
        "colab": {
          "base_uri": "https://localhost:8080/"
        },
        "id": "twAnN8WdD7Tl",
        "outputId": "10c58fa5-5ac6-430f-95c7-00d8c6d501dd"
      },
      "outputs": [
        {
          "name": "stdout",
          "output_type": "stream",
          "text": [
            "                  customerID    gender  SeniorCitizen   Partner  Dependents  \\\n",
            "customerID          1.000000  0.006288      -0.002074 -0.026729   -0.012823   \n",
            "gender              0.006288  1.000000      -0.001874 -0.001808    0.010517   \n",
            "SeniorCitizen      -0.002074 -0.001874       1.000000  0.016479   -0.211185   \n",
            "Partner            -0.026729 -0.001808       0.016479  1.000000    0.452676   \n",
            "Dependents         -0.012823  0.010517      -0.211185  0.452676    1.000000   \n",
            "tenure              0.008035  0.005106       0.016567  0.379697    0.159712   \n",
            "PhoneService       -0.006483 -0.006488       0.008576  0.017706   -0.001762   \n",
            "MultipleLines       0.004316 -0.006739       0.146185  0.142410   -0.024991   \n",
            "InternetService    -0.012407 -0.000863      -0.032310  0.000891    0.044590   \n",
            "OnlineSecurity      0.013292 -0.015017      -0.128221  0.150828    0.152166   \n",
            "OnlineBackup       -0.003334 -0.012057      -0.013632  0.153130    0.091015   \n",
            "DeviceProtection   -0.006918  0.000549      -0.021398  0.166330    0.080537   \n",
            "TechSupport         0.001140 -0.006825      -0.151268  0.126733    0.133524   \n",
            "StreamingTV        -0.007777 -0.006421       0.030776  0.137341    0.046885   \n",
            "StreamingMovies    -0.016746 -0.008743       0.047266  0.129574    0.021321   \n",
            "Contract            0.015028  0.000126      -0.142554  0.294806    0.243187   \n",
            "PaperlessBilling   -0.001945 -0.011754       0.156530 -0.014877   -0.111377   \n",
            "PaymentMethod       0.011604  0.017352      -0.038551 -0.154798   -0.040292   \n",
            "MonthlyCharges     -0.006266 -0.014623       0.219524  0.106501   -0.107507   \n",
            "TotalCharges        0.003027 -0.005291       0.037653  0.059568   -0.009572   \n",
            "Churn              -0.017447 -0.008612       0.150889 -0.150448   -0.164221   \n",
            "\n",
            "                    tenure  PhoneService  MultipleLines  InternetService  \\\n",
            "customerID        0.008035     -0.006483       0.004316        -0.012407   \n",
            "gender            0.005106     -0.006488      -0.006739        -0.000863   \n",
            "SeniorCitizen     0.016567      0.008576       0.146185        -0.032310   \n",
            "Partner           0.379697      0.017706       0.142410         0.000891   \n",
            "Dependents        0.159712     -0.001762      -0.024991         0.044590   \n",
            "tenure            1.000000      0.008448       0.343032        -0.030359   \n",
            "PhoneService      0.008448      1.000000      -0.020538         0.387436   \n",
            "MultipleLines     0.343032     -0.020538       1.000000        -0.109216   \n",
            "InternetService  -0.030359      0.387436      -0.109216         1.000000   \n",
            "OnlineSecurity    0.325468     -0.015198       0.007141        -0.028416   \n",
            "OnlineBackup      0.370876      0.024105       0.117327         0.036138   \n",
            "DeviceProtection  0.371105      0.003727       0.122318         0.044944   \n",
            "TechSupport       0.322942     -0.019158       0.011466        -0.026047   \n",
            "StreamingTV       0.289373      0.055353       0.175059         0.107417   \n",
            "StreamingMovies   0.296866      0.043870       0.180957         0.098350   \n",
            "Contract          0.671607      0.002247       0.110842         0.099721   \n",
            "PaperlessBilling  0.006152      0.016505       0.165146        -0.138625   \n",
            "PaymentMethod    -0.370436     -0.004184      -0.176793         0.086140   \n",
            "MonthlyCharges    0.268133      0.271209       0.444580        -0.244965   \n",
            "TotalCharges      0.158523      0.083195       0.114955        -0.055724   \n",
            "Churn            -0.352229      0.011942       0.038037        -0.047291   \n",
            "\n",
            "                  OnlineSecurity  ...  DeviceProtection  TechSupport  \\\n",
            "customerID              0.013292  ...         -0.006918     0.001140   \n",
            "gender                 -0.015017  ...          0.000549    -0.006825   \n",
            "SeniorCitizen          -0.128221  ...         -0.021398    -0.151268   \n",
            "Partner                 0.150828  ...          0.166330     0.126733   \n",
            "Dependents              0.152166  ...          0.080537     0.133524   \n",
            "tenure                  0.325468  ...          0.371105     0.322942   \n",
            "PhoneService           -0.015198  ...          0.003727    -0.019158   \n",
            "MultipleLines           0.007141  ...          0.122318     0.011466   \n",
            "InternetService        -0.028416  ...          0.044944    -0.026047   \n",
            "OnlineSecurity          1.000000  ...          0.175985     0.285028   \n",
            "OnlineBackup            0.185126  ...          0.187757     0.195748   \n",
            "DeviceProtection        0.175985  ...          1.000000     0.240593   \n",
            "TechSupport             0.285028  ...          0.240593     1.000000   \n",
            "StreamingTV             0.044669  ...          0.276652     0.161305   \n",
            "StreamingMovies         0.055954  ...          0.288799     0.161316   \n",
            "Contract                0.374416  ...          0.350277     0.425367   \n",
            "PaperlessBilling       -0.157641  ...         -0.038234    -0.113600   \n",
            "PaymentMethod          -0.096726  ...         -0.135750    -0.104670   \n",
            "MonthlyCharges         -0.044692  ...          0.189949     0.006412   \n",
            "TotalCharges            0.042357  ...          0.105905     0.057488   \n",
            "Churn                  -0.289309  ...         -0.178134    -0.282492   \n",
            "\n",
            "                  StreamingTV  StreamingMovies  Contract  PaperlessBilling  \\\n",
            "customerID          -0.007777        -0.016746  0.015028         -0.001945   \n",
            "gender              -0.006421        -0.008743  0.000126         -0.011754   \n",
            "SeniorCitizen        0.030776         0.047266 -0.142554          0.156530   \n",
            "Partner              0.137341         0.129574  0.294806         -0.014877   \n",
            "Dependents           0.046885         0.021321  0.243187         -0.111377   \n",
            "tenure               0.289373         0.296866  0.671607          0.006152   \n",
            "PhoneService         0.055353         0.043870  0.002247          0.016505   \n",
            "MultipleLines        0.175059         0.180957  0.110842          0.165146   \n",
            "InternetService      0.107417         0.098350  0.099721         -0.138625   \n",
            "OnlineSecurity       0.044669         0.055954  0.374416         -0.157641   \n",
            "OnlineBackup         0.147186         0.136722  0.280980         -0.013370   \n",
            "DeviceProtection     0.276652         0.288799  0.350277         -0.038234   \n",
            "TechSupport          0.161305         0.161316  0.425367         -0.113600   \n",
            "StreamingTV          1.000000         0.434772  0.227116          0.096642   \n",
            "StreamingMovies      0.434772         1.000000  0.231226          0.083700   \n",
            "Contract             0.227116         0.231226  1.000000         -0.176733   \n",
            "PaperlessBilling     0.096642         0.083700 -0.176733          1.000000   \n",
            "PaymentMethod       -0.104234        -0.111241 -0.227543         -0.062904   \n",
            "MonthlyCharges       0.377224         0.375323 -0.050595          0.344417   \n",
            "TotalCharges         0.138173         0.145366  0.106178          0.100957   \n",
            "Churn               -0.036581        -0.038492 -0.396713          0.191825   \n",
            "\n",
            "                  PaymentMethod  MonthlyCharges  TotalCharges     Churn  \n",
            "customerID             0.011604       -0.006266      0.003027 -0.017447  \n",
            "gender                 0.017352       -0.014623     -0.005291 -0.008612  \n",
            "SeniorCitizen         -0.038551        0.219524      0.037653  0.150889  \n",
            "Partner               -0.154798        0.106501      0.059568 -0.150448  \n",
            "Dependents            -0.040292       -0.107507     -0.009572 -0.164221  \n",
            "tenure                -0.370436        0.268133      0.158523 -0.352229  \n",
            "PhoneService          -0.004184        0.271209      0.083195  0.011942  \n",
            "MultipleLines         -0.176793        0.444580      0.114955  0.038037  \n",
            "InternetService        0.086140       -0.244965     -0.055724 -0.047291  \n",
            "OnlineSecurity        -0.096726       -0.044692      0.042357 -0.289309  \n",
            "OnlineBackup          -0.124847        0.141258      0.090756 -0.195525  \n",
            "DeviceProtection      -0.135750        0.189949      0.105905 -0.178134  \n",
            "TechSupport           -0.104670        0.006412      0.057488 -0.282492  \n",
            "StreamingTV           -0.104234        0.377224      0.138173 -0.036581  \n",
            "StreamingMovies       -0.111241        0.375323      0.145366 -0.038492  \n",
            "Contract              -0.227543       -0.050595      0.106178 -0.396713  \n",
            "PaperlessBilling      -0.062904        0.344417      0.100957  0.191825  \n",
            "PaymentMethod          1.000000       -0.193822     -0.067477  0.107062  \n",
            "MonthlyCharges        -0.193822        1.000000      0.289637  0.183523  \n",
            "TotalCharges          -0.067477        0.289637      1.000000  0.014479  \n",
            "Churn                  0.107062        0.183523      0.014479  1.000000  \n",
            "\n",
            "[21 rows x 21 columns]\n"
          ]
        }
      ],
      "source": [
        "correlation=TCC.corr()\n",
        "print(correlation)"
      ]
    },
    {
      "cell_type": "code",
      "execution_count": null,
      "metadata": {
        "colab": {
          "base_uri": "https://localhost:8080/",
          "height": 542
        },
        "id": "hgEsdkH6EByY",
        "outputId": "aab2e716-17ab-4454-9d8d-18fca0f74534"
      },
      "outputs": [
        {
          "data": {
            "text/plain": [
              "<Axes: >"
            ]
          },
          "execution_count": 50,
          "metadata": {},
          "output_type": "execute_result"
        },
        {
          "data": {
            "image/png": "[encoded data removed]",
            "text/plain": [
              "<Figure size 576x576 with 2 Axes>"
            ]
          },
          "metadata": {},
          "output_type": "display_data"
        }
      ],
      "source": [
        "plt.figure(figsize=(8,8))\n",
        "sns.heatmap(correlation,cbar=True,square=True,cmap=\"gnuplot_r\",annot=True,annot_kws={'size':8},fmt='.1f')"
      ]
    },
    {
      "cell_type": "markdown",
      "metadata": {
        "id": "Zy6Pw57F0vcG"
      },
      "source": [
        "MODEL PREDICTION AND ACCURACY"
      ]
    },
    {
      "cell_type": "code",
      "execution_count": null,
      "metadata": {
        "colab": {
          "base_uri": "https://localhost:8080/"
        },
        "id": "wLzxk2cBEH7A",
        "outputId": "4e7bb904-5cbf-4c69-83bd-dc98ca5d7e66"
      },
      "outputs": [
        {
          "name": "stdout",
          "output_type": "stream",
          "text": [
            "accuracy of linear regression on training data:0.272115\n",
            "accuracy of linear regression on test data:0.248795\n"
          ]
        }
      ],
      "source": [
        "from sklearn.linear_model import LinearRegression\n",
        "linreg=LinearRegression()\n",
        "linreg.fit(X_train,Y_train)\n",
        "print('accuracy of linear regression on training data:{:2f}'.format(linreg.score(X_train,Y_train)))\n",
        "print('accuracy of linear regression on test data:{:2f}'.format(linreg.score(X_test,Y_test)))"
      ]
    },
    {
      "cell_type": "code",
      "execution_count": null,
      "metadata": {
        "colab": {
          "base_uri": "https://localhost:8080/"
        },
        "id": "NwYMh1wiVkHw",
        "outputId": "658ea0e8-c2b4-4cc1-b893-ea2ef0a80fec"
      },
      "outputs": [
        {
          "name": "stdout",
          "output_type": "stream",
          "text": [
            "accuracy of logistic regression on training set:0.805289\n",
            "accuracy of logistic regression on test set:0.806955\n"
          ]
        }
      ],
      "source": [
        "from sklearn.linear_model import LogisticRegression\n",
        "logreg=LogisticRegression()\n",
        "logreg.fit(X_train,Y_train)\n",
        "print('accuracy of logistic regression on training set:{:2f}'.format(logreg.score(X_train,Y_train)))\n",
        "print('accuracy of logistic regression on test set:{:2f}'.format(logreg.score(X_test,Y_test)))"
      ]
    },
    {
      "cell_type": "code",
      "execution_count": null,
      "metadata": {
        "colab": {
          "base_uri": "https://localhost:8080/"
        },
        "id": "5paK5kmOV_TY",
        "outputId": "f5fdfa58-44c8-4143-970a-c62ebdea5f71"
      },
      "outputs": [
        {
          "name": "stdout",
          "output_type": "stream",
          "text": [
            "accuracy of decision tree classifier on training set:0.997870\n",
            "accuracy of decision tree classifier on test set:0.725337\n"
          ]
        }
      ],
      "source": [
        "from sklearn.tree import DecisionTreeClassifier\n",
        "clf=DecisionTreeClassifier().fit(X_train,Y_train)\n",
        "print('accuracy of decision tree classifier on training set:{:2f}'.format(clf.score(X_train,Y_train)))\n",
        "print('accuracy of decision tree classifier on test set:{:2f}'.format(clf.score(X_test,Y_test)))"
      ]
    },
    {
      "cell_type": "code",
      "execution_count": null,
      "metadata": {
        "colab": {
          "base_uri": "https://localhost:8080/"
        },
        "id": "lybFS88oWFno",
        "outputId": "98352f71-163b-4bd1-f7ad-2a64cfe9a262"
      },
      "outputs": [
        {
          "name": "stdout",
          "output_type": "stream",
          "text": [
            "accuracy of K-NN Classifier on training set:0.824104\n",
            "accuracy of K-NN Classifier on test set:0.767211\n"
          ]
        }
      ],
      "source": [
        "from sklearn.neighbors import KNeighborsClassifier\n",
        "knn=KNeighborsClassifier()\n",
        "knn.fit(X_train,Y_train)\n",
        "print('accuracy of K-NN Classifier on training set:{:2f}'.format(knn.score(X_train,Y_train)))\n",
        "print('accuracy of K-NN Classifier on test set:{:2f}'.format(knn.score(X_test,Y_test)))"
      ]
    },
    {
      "cell_type": "code",
      "execution_count": null,
      "metadata": {
        "colab": {
          "base_uri": "https://localhost:8080/"
        },
        "id": "55qFmWTE7ioo",
        "outputId": "6d066ad8-8e88-4aee-bae8-c4a7741d0a31"
      },
      "outputs": [
        {
          "data": {
            "text/plain": [
              "['/bin/bash: z: command not found']"
            ]
          },
          "execution_count": 55,
          "metadata": {},
          "output_type": "execute_result"
        }
      ],
      "source": [
        "sx  `    z                 `"
      ]
    },
    {
      "cell_type": "code",
      "execution_count": null,
      "metadata": {
        "colab": {
          "base_uri": "https://localhost:8080/"
        },
        "id": "64nr-TjgWHIw",
        "outputId": "42ef30eb-c347-453e-9785-d1138202ae0b"
      },
      "outputs": [
        {
          "name": "stdout",
          "output_type": "stream",
          "text": [
            "accuracy of GNB classifier on training set:0.757188\n",
            "accuracy of GNB classifier on test set:0.752307\n"
          ]
        }
      ],
      "source": [
        "from sklearn.naive_bayes import GaussianNB\n",
        "gnb=GaussianNB()\n",
        "gnb.fit(X_train,Y_train)\n",
        "print('accuracy of GNB classifier on training set:{:2f}'.format(gnb.score(X_train,Y_train)))\n",
        "print('accuracy of GNB classifier on test set:{:2f}'.format(gnb.score(X_test,Y_test)))"
      ]
    },
    {
      "cell_type": "code",
      "execution_count": null,
      "metadata": {
        "colab": {
          "base_uri": "https://localhost:8080/"
        },
        "id": "kuF1ZHo9WKgW",
        "outputId": "3b50428c-9cb6-4c2d-9718-05a84358e7f8"
      },
      "outputs": [
        {
          "name": "stdout",
          "output_type": "stream",
          "text": [
            "accuracy of SVM classifier on training set:0.822329\n",
            "accuracy of SVM classifier on test set:0.810504\n"
          ]
        }
      ],
      "source": [
        "from sklearn.svm import SVC\n",
        "svm=SVC()\n",
        "svm.fit(X_train,Y_train)\n",
        "print('accuracy of SVM classifier on training set:{:2f}'.format(svm.score(X_train,Y_train)))\n",
        "print('accuracy of SVM classifier on test set:{:2f}'.format(svm.score(X_test,Y_test)))"
      ]
    },
    {
      "cell_type": "code",
      "execution_count": null,
      "metadata": {
        "colab": {
          "base_uri": "https://localhost:8080/"
        },
        "id": "7HNKnqWZNuBb",
        "outputId": "c84ed322-4557-443a-e59c-da3961052286"
      },
      "outputs": [
        {
          "name": "stdout",
          "output_type": "stream",
          "text": [
            "[0.167  0.2    0.03   ... 0.6025 0.03   0.09  ]\n"
          ]
        }
      ],
      "source": [
        "from sklearn.ensemble import RandomForestRegressor\n",
        "regressor=RandomForestRegressor(n_estimators=100)\n",
        "regressor.fit(X_train,Y_train)\n",
        "test_data_prediction=regressor.predict(X_test)\n",
        "print(test_data_prediction)"
      ]
    },
    {
      "cell_type": "code",
      "execution_count": null,
      "metadata": {
        "colab": {
          "base_uri": "https://localhost:8080/"
        },
        "id": "VQEsBecZN6za",
        "outputId": "f11ea1e2-ef2c-4543-b08b-b3f214c66bea"
      },
      "outputs": [
        {
          "name": "stdout",
          "output_type": "stream",
          "text": [
            "R squared error: 0.2348267770918343\n"
          ]
        }
      ],
      "source": [
        "error_score=metrics.r2_score(Y_test,test_data_prediction)\n",
        "print(\"R squared error:\",error_score)"
      ]
    },
    {
      "cell_type": "code",
      "execution_count": null,
      "metadata": {
        "colab": {
          "base_uri": "https://localhost:8080/"
        },
        "id": "5gFCRFY7N8ei",
        "outputId": "2022a42b-91d9-45e6-e24e-5fddfe42c804"
      },
      "outputs": [
        {
          "name": "stdout",
          "output_type": "stream",
          "text": [
            "accuracy of GradientBooster on training set:0.824991\n",
            "accuracy of GradientBooster on test set:0.813343\n"
          ]
        }
      ],
      "source": [
        "from sklearn.ensemble import GradientBoostingClassifier\n",
        "gradient_booster = GradientBoostingClassifier(learning_rate=0.1)\n",
        "gradient_booster.get_params()\n",
        "gradient_booster.fit(X_train,Y_train)\n",
        "print('accuracy of GradientBooster on training set:{:2f}'.format(gradient_booster.score(X_train,Y_train)))\n",
        "print('accuracy of GradientBooster on test set:{:2f}'.format(gradient_booster.score(X_test,Y_test)))"
      ]
    },
    {
      "cell_type": "code",
      "execution_count": null,
      "metadata": {
        "colab": {
          "base_uri": "https://localhost:8080/"
        },
        "id": "_vsbduwhPKsw",
        "outputId": "36df41b9-884d-4649-e72a-8f16e48bd267"
      },
      "outputs": [
        {
          "name": "stdout",
          "output_type": "stream",
          "text": [
            "accuracy of ExtraTreeclassifier on training set:0.997338\n",
            "accuracy of ExtraTreeclassifier on test set:0.997871\n"
          ]
        }
      ],
      "source": [
        "from sklearn.ensemble import ExtraTreesClassifier\n",
        "extra_tree_forest = ExtraTreesClassifier(n_estimators = 5,criterion ='entropy', max_features = 2)\n",
        "extra_tree_forest.fit(X,Y)\n",
        "print('accuracy of ExtraTreeclassifier on training set:{:2f}'.format(extra_tree_forest.score(X_train,Y_train)))\n",
        "print('accuracy of ExtraTreeclassifier on test set:{:2f}'.format(extra_tree_forest.score(X_test,Y_test)))"
      ]
    },
    {
      "cell_type": "markdown",
      "metadata": {
        "id": "FSl-RD7S01vW"
      },
      "source": [
        "PREDICTION ON THE BASIS OF EXTRA TREE CLASSIFIER"
      ]
    },
    {
      "cell_type": "code",
      "execution_count": null,
      "metadata": {
        "id": "vntOwS9Fz_A7"
      },
      "outputs": [],
      "source": []
    },
    {
      "cell_type": "code",
      "execution_count": null,
      "metadata": {
        "colab": {
          "base_uri": "https://localhost:8080/"
        },
        "id": "8sLi3DPPQWO0",
        "outputId": "f3db27f9-09eb-4e7c-ce27-a9a25c0cbd73"
      },
      "outputs": [
        {
          "name": "stdout",
          "output_type": "stream",
          "text": [
            "[0]\n",
            "POSITIVE CHURN\n"
          ]
        }
      ],
      "source": [
        "input_data=(0,0,0,0,34,0,0,0,2,0,2,0,0,0,1,0,3,499,1467)\n",
        "input_data_as_numpy_array=np.array(input_data)\n",
        "input_data_reshaped=input_data_as_numpy_array.reshape(1,-1)\n",
        "prediction=extra_tree_forest.predict(input_data_reshaped)\n",
        "print(prediction)\n",
        "\n",
        "if(prediction[0]==0):\n",
        "   print('POSITIVE CHURN')\n",
        "else:\n",
        "  print('NEGATIVE CHURN')"
      ]
    },
    {
      "cell_type": "markdown",
      "metadata": {
        "id": "nvTdtNih0-Fu"
      },
      "source": [
        "**PREDICTION ON CUSTOMER CHURN IS POSITIVE**"
      ]
    },
    {
      "cell_type": "markdown",
      "metadata": {
        "id": "oIPi5ywl1LoJ"
      },
      "source": [
        "GRAPH ON KMEANS CLUSTERING"
      ]
    },
    {
      "cell_type": "code",
      "execution_count": null,
      "metadata": {
        "id": "uPEwVrlwTXbs"
      },
      "outputs": [],
      "source": [
        "from sklearn.cluster import KMeans"
      ]
    },
    {
      "cell_type": "code",
      "execution_count": null,
      "metadata": {
        "colab": {
          "base_uri": "https://localhost:8080/"
        },
        "id": "zxvad6ORT07p",
        "outputId": "fbf3fc53-16ad-4e66-e102-dbe14f5a0b5b"
      },
      "outputs": [
        {
          "name": "stdout",
          "output_type": "stream",
          "text": [
            "[[0 0]\n",
            " [1 0]\n",
            " [1 0]\n",
            " ...\n",
            " [0 0]\n",
            " [1 1]\n",
            " [1 0]]\n"
          ]
        }
      ],
      "source": [
        "X=TCC.iloc[:,[1,2]].values\n",
        "print(X)"
      ]
    },
    {
      "cell_type": "code",
      "execution_count": null,
      "metadata": {
        "colab": {
          "base_uri": "https://localhost:8080/"
        },
        "id": "b4zKqEeyT6zR",
        "outputId": "a3605610-c431-4143-c249-8cb027e6d68c"
      },
      "outputs": [
        {
          "name": "stderr",
          "output_type": "stream",
          "text": [
            "/usr/local/lib/python3.9/dist-packages/sklearn/cluster/_kmeans.py:870: FutureWarning: The default value of `n_init` will change from 10 to 'auto' in 1.4. Set the value of `n_init` explicitly to suppress the warning\n",
            "  warnings.warn(\n",
            "/usr/local/lib/python3.9/dist-packages/sklearn/cluster/_kmeans.py:870: FutureWarning: The default value of `n_init` will change from 10 to 'auto' in 1.4. Set the value of `n_init` explicitly to suppress the warning\n",
            "  warnings.warn(\n",
            "/usr/local/lib/python3.9/dist-packages/sklearn/cluster/_kmeans.py:870: FutureWarning: The default value of `n_init` will change from 10 to 'auto' in 1.4. Set the value of `n_init` explicitly to suppress the warning\n",
            "  warnings.warn(\n",
            "/usr/local/lib/python3.9/dist-packages/sklearn/cluster/_kmeans.py:870: FutureWarning: The default value of `n_init` will change from 10 to 'auto' in 1.4. Set the value of `n_init` explicitly to suppress the warning\n",
            "  warnings.warn(\n"
          ]
        }
      ],
      "source": [
        "wcss=[]\n",
        "\n",
        "for i in range(1,5):\n",
        "  kmeans= KMeans(n_clusters=i, init='k-means++', random_state=42)\n",
        "  kmeans.fit(X)\n",
        "\n",
        "  wcss.append(kmeans.inertia_)"
      ]
    },
    {
      "cell_type": "code",
      "execution_count": null,
      "metadata": {
        "colab": {
          "base_uri": "https://localhost:8080/",
          "height": 301
        },
        "id": "JoFF1IeeUCPR",
        "outputId": "94148535-4da6-4680-ae15-2aed5c4ad5dd"
      },
      "outputs": [
        {
          "data": {
            "image/png": "[encoded data removed]",
            "text/plain": [
              "<Figure size 432x288 with 1 Axes>"
            ]
          },
          "metadata": {},
          "output_type": "display_data"
        }
      ],
      "source": [
        "sns.set()\n",
        "plt.plot(range(1,5),wcss)\n",
        "plt.title('The Elbow Point Graph')\n",
        "plt.xlabel('Number of Clusters')\n",
        "plt.ylabel('WCSS')\n",
        "plt.show()"
      ]
    },
    {
      "cell_type": "code",
      "execution_count": null,
      "metadata": {
        "colab": {
          "base_uri": "https://localhost:8080/"
        },
        "id": "G7m8ILPsURTw",
        "outputId": "851d2e48-20fa-4643-cc41-0daa8003d4f0"
      },
      "outputs": [
        {
          "name": "stderr",
          "output_type": "stream",
          "text": [
            "/usr/local/lib/python3.9/dist-packages/sklearn/cluster/_kmeans.py:870: FutureWarning: The default value of `n_init` will change from 10 to 'auto' in 1.4. Set the value of `n_init` explicitly to suppress the warning\n",
            "  warnings.warn(\n"
          ]
        },
        {
          "name": "stdout",
          "output_type": "stream",
          "text": [
            "[0 1 1 ... 0 2 1]\n"
          ]
        },
        {
          "name": "stderr",
          "output_type": "stream",
          "text": [
            "/usr/local/lib/python3.9/dist-packages/sklearn/cluster/_kmeans.py:1033: ConvergenceWarning: Number of distinct clusters (4) found smaller than n_clusters (5). Possibly due to duplicate points in X.\n",
            "  return self.fit(X, sample_weight=sample_weight).labels_\n"
          ]
        }
      ],
      "source": [
        "kmeans=KMeans(n_clusters=5, init='k-means++',random_state=0)\n",
        "Y = kmeans.fit_predict(X)\n",
        "print(Y)"
      ]
    }
  ],
  "metadata": {
    "accelerator": "GPU",
    "colab": {
      "provenance": [],
      "include_colab_link": true
    },
    "gpuClass": "standard",
    "kernelspec": {
      "display_name": "Python 3",
      "name": "python3"
    },
    "language_info": {
      "name": "python"
    }
  },
  "nbformat": 4,
  "nbformat_minor": 0
}